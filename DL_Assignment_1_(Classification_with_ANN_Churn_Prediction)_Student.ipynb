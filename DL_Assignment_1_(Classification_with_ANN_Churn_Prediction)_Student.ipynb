{
  "cells": [
    {
      "cell_type": "markdown",
      "metadata": {
        "id": "Nu6iBjx4OSLw"
      },
      "source": [
        "___\n",
        "\n",
        "<p style=\"text-align: center;\"><img src=\"https://docs.google.com/uc?id=1lY0Uj5R04yMY3-ZppPWxqCr5pvBLYPnV\" class=\"img-fluid\" alt=\"CLRSWY\"></p>\n",
        "\n",
        "___"
      ]
    },
    {
      "cell_type": "markdown",
      "metadata": {
        "id": "6CpXKd7hOSLz"
      },
      "source": [
        "<h1 style=\"text-align: center;\">Deep Learning<br><br>Assignment-1 (ANN)<br><br>Churn Prediction for Bank Customer<br><h1>"
      ]
    },
    {
      "cell_type": "markdown",
      "metadata": {
        "id": "o1wtFMUXOSL0"
      },
      "source": [
        "# Dataset Info"
      ]
    },
    {
      "cell_type": "markdown",
      "metadata": {
        "id": "Go_xtL5lOSL0"
      },
      "source": [
        "We have a dataset in which there are details of a bank's customers and the target variable is a binary variable reflecting the fact whether the customer left the bank (closed his account) or he continues to be a customer.\n",
        "\n",
        "The features in the given dataset are:\n",
        "- **rownumber:** Row Numbers from 1 to 10000.\n",
        "- **customerid:** A unique ID that identifies each customer.\n",
        "- **surname:** The customer’s surname.\n",
        "- **creditscore:** A credit score is a number between 300–850 that depicts a consumer's creditworthiness.\n",
        "- **geography:** The country from which the customer belongs to.\n",
        "- **Gender:** The customer’s gender: Male, Female\n",
        "- **Age:** The customer’s current age, in years, at the time of being customer.\n",
        "- **tenure:** The number of years for which the customer has been with the bank.\n",
        "- **balance:** Bank balance of the customer.\n",
        "- **numofproducts:** the number of bank products the customer is utilising.\n",
        "- **hascrcard:** The number of credit cards given to the customer by the bank.\n",
        "- **isactivemember:** Binary Flag for indicating if the client is active or not with the bank before the moment where the client exits the company (recorded in the variable \"exited\")\n",
        "- **exited:** Binary flag 1 if the customer closed account with bank and 0 if the customer is retained."
      ]
    },
    {
      "cell_type": "markdown",
      "metadata": {
        "id": "cOfi87tFOSL1"
      },
      "source": [
        "# Improt Libraries & Data"
      ]
    },
    {
      "cell_type": "code",
      "execution_count": null,
      "metadata": {
        "colab": {
          "base_uri": "https://localhost:8080/"
        },
        "id": "L9kCyEX0OSL2",
        "outputId": "46a97b89-906d-40fe-b666-0006b9d620f9"
      },
      "outputs": [
        {
          "output_type": "stream",
          "name": "stdout",
          "text": [
            "Python 3.7.13\n"
          ]
        }
      ],
      "source": [
        "!python --version"
      ]
    },
    {
      "cell_type": "code",
      "execution_count": null,
      "metadata": {
        "id": "OQUBKuGvOSL3"
      },
      "outputs": [],
      "source": [
        "import numpy as np\n",
        "import pandas as pd\n",
        "import matplotlib.pyplot as plt\n",
        "import seaborn as sns\n",
        "\n",
        "import warnings\n",
        "warnings.filterwarnings(\"ignore\")\n",
        "warnings.warn(\"this will not show\")\n",
        "\n",
        "plt.rcParams[\"figure.figsize\"] = (10,6)\n",
        "\n",
        "sns.set_style(\"whitegrid\")\n",
        "pd.set_option('display.float_format', lambda x: '%.3f' % x)\n",
        "\n",
        "pd.set_option('display.max_columns', None)"
      ]
    },
    {
      "cell_type": "code",
      "execution_count": null,
      "metadata": {
        "id": "Bzze_nHiOSL3"
      },
      "outputs": [],
      "source": [
        "df = pd.read_csv(\"Churn_Modelling.csv\")"
      ]
    },
    {
      "cell_type": "markdown",
      "metadata": {
        "id": "H-ErXIL7OSL4"
      },
      "source": [
        "# Exploratory Data Analysis and Visualization"
      ]
    },
    {
      "cell_type": "markdown",
      "metadata": {
        "id": "_HXgjQ_VOSL4"
      },
      "source": [
        "1. Implement basic steps to see how is your data looks like\n",
        "2. Check for missing values\n",
        "3. Drop the features that not suitable for modelling\n",
        "4. Implement basic visualization steps such as histogram, countplot, heatmap\n",
        "5. Convert categorical variables to dummy variables"
      ]
    },
    {
      "cell_type": "code",
      "execution_count": null,
      "metadata": {
        "colab": {
          "base_uri": "https://localhost:8080/",
          "height": 268
        },
        "id": "xMhH1mLSOSL5",
        "outputId": "02a9ead2-723a-4baf-8760-c4842abb1d3a"
      },
      "outputs": [
        {
          "output_type": "execute_result",
          "data": {
            "text/plain": [
              "   RowNumber  CustomerId   Surname  CreditScore Geography  Gender  Age  \\\n",
              "0          1    15634602  Hargrave          619    France  Female   42   \n",
              "1          2    15647311      Hill          608     Spain  Female   41   \n",
              "2          3    15619304      Onio          502    France  Female   42   \n",
              "3          4    15701354      Boni          699    France  Female   39   \n",
              "4          5    15737888  Mitchell          850     Spain  Female   43   \n",
              "\n",
              "   Tenure    Balance  NumOfProducts  HasCrCard  IsActiveMember  \\\n",
              "0       2      0.000              1          1               1   \n",
              "1       1  83807.860              1          0               1   \n",
              "2       8 159660.800              3          1               0   \n",
              "3       1      0.000              2          0               0   \n",
              "4       2 125510.820              1          1               1   \n",
              "\n",
              "   EstimatedSalary  Exited  \n",
              "0       101348.880       1  \n",
              "1       112542.580       0  \n",
              "2       113931.570       1  \n",
              "3        93826.630       0  \n",
              "4        79084.100       0  "
            ],
            "text/html": [
              "\n",
              "  <div id=\"df-7308b31d-aec0-4cae-9bd5-c63985a67667\">\n",
              "    <div class=\"colab-df-container\">\n",
              "      <div>\n",
              "<style scoped>\n",
              "    .dataframe tbody tr th:only-of-type {\n",
              "        vertical-align: middle;\n",
              "    }\n",
              "\n",
              "    .dataframe tbody tr th {\n",
              "        vertical-align: top;\n",
              "    }\n",
              "\n",
              "    .dataframe thead th {\n",
              "        text-align: right;\n",
              "    }\n",
              "</style>\n",
              "<table border=\"1\" class=\"dataframe\">\n",
              "  <thead>\n",
              "    <tr style=\"text-align: right;\">\n",
              "      <th></th>\n",
              "      <th>RowNumber</th>\n",
              "      <th>CustomerId</th>\n",
              "      <th>Surname</th>\n",
              "      <th>CreditScore</th>\n",
              "      <th>Geography</th>\n",
              "      <th>Gender</th>\n",
              "      <th>Age</th>\n",
              "      <th>Tenure</th>\n",
              "      <th>Balance</th>\n",
              "      <th>NumOfProducts</th>\n",
              "      <th>HasCrCard</th>\n",
              "      <th>IsActiveMember</th>\n",
              "      <th>EstimatedSalary</th>\n",
              "      <th>Exited</th>\n",
              "    </tr>\n",
              "  </thead>\n",
              "  <tbody>\n",
              "    <tr>\n",
              "      <th>0</th>\n",
              "      <td>1</td>\n",
              "      <td>15634602</td>\n",
              "      <td>Hargrave</td>\n",
              "      <td>619</td>\n",
              "      <td>France</td>\n",
              "      <td>Female</td>\n",
              "      <td>42</td>\n",
              "      <td>2</td>\n",
              "      <td>0.000</td>\n",
              "      <td>1</td>\n",
              "      <td>1</td>\n",
              "      <td>1</td>\n",
              "      <td>101348.880</td>\n",
              "      <td>1</td>\n",
              "    </tr>\n",
              "    <tr>\n",
              "      <th>1</th>\n",
              "      <td>2</td>\n",
              "      <td>15647311</td>\n",
              "      <td>Hill</td>\n",
              "      <td>608</td>\n",
              "      <td>Spain</td>\n",
              "      <td>Female</td>\n",
              "      <td>41</td>\n",
              "      <td>1</td>\n",
              "      <td>83807.860</td>\n",
              "      <td>1</td>\n",
              "      <td>0</td>\n",
              "      <td>1</td>\n",
              "      <td>112542.580</td>\n",
              "      <td>0</td>\n",
              "    </tr>\n",
              "    <tr>\n",
              "      <th>2</th>\n",
              "      <td>3</td>\n",
              "      <td>15619304</td>\n",
              "      <td>Onio</td>\n",
              "      <td>502</td>\n",
              "      <td>France</td>\n",
              "      <td>Female</td>\n",
              "      <td>42</td>\n",
              "      <td>8</td>\n",
              "      <td>159660.800</td>\n",
              "      <td>3</td>\n",
              "      <td>1</td>\n",
              "      <td>0</td>\n",
              "      <td>113931.570</td>\n",
              "      <td>1</td>\n",
              "    </tr>\n",
              "    <tr>\n",
              "      <th>3</th>\n",
              "      <td>4</td>\n",
              "      <td>15701354</td>\n",
              "      <td>Boni</td>\n",
              "      <td>699</td>\n",
              "      <td>France</td>\n",
              "      <td>Female</td>\n",
              "      <td>39</td>\n",
              "      <td>1</td>\n",
              "      <td>0.000</td>\n",
              "      <td>2</td>\n",
              "      <td>0</td>\n",
              "      <td>0</td>\n",
              "      <td>93826.630</td>\n",
              "      <td>0</td>\n",
              "    </tr>\n",
              "    <tr>\n",
              "      <th>4</th>\n",
              "      <td>5</td>\n",
              "      <td>15737888</td>\n",
              "      <td>Mitchell</td>\n",
              "      <td>850</td>\n",
              "      <td>Spain</td>\n",
              "      <td>Female</td>\n",
              "      <td>43</td>\n",
              "      <td>2</td>\n",
              "      <td>125510.820</td>\n",
              "      <td>1</td>\n",
              "      <td>1</td>\n",
              "      <td>1</td>\n",
              "      <td>79084.100</td>\n",
              "      <td>0</td>\n",
              "    </tr>\n",
              "  </tbody>\n",
              "</table>\n",
              "</div>\n",
              "      <button class=\"colab-df-convert\" onclick=\"convertToInteractive('df-7308b31d-aec0-4cae-9bd5-c63985a67667')\"\n",
              "              title=\"Convert this dataframe to an interactive table.\"\n",
              "              style=\"display:none;\">\n",
              "        \n",
              "  <svg xmlns=\"http://www.w3.org/2000/svg\" height=\"24px\"viewBox=\"0 0 24 24\"\n",
              "       width=\"24px\">\n",
              "    <path d=\"M0 0h24v24H0V0z\" fill=\"none\"/>\n",
              "    <path d=\"M18.56 5.44l.94 2.06.94-2.06 2.06-.94-2.06-.94-.94-2.06-.94 2.06-2.06.94zm-11 1L8.5 8.5l.94-2.06 2.06-.94-2.06-.94L8.5 2.5l-.94 2.06-2.06.94zm10 10l.94 2.06.94-2.06 2.06-.94-2.06-.94-.94-2.06-.94 2.06-2.06.94z\"/><path d=\"M17.41 7.96l-1.37-1.37c-.4-.4-.92-.59-1.43-.59-.52 0-1.04.2-1.43.59L10.3 9.45l-7.72 7.72c-.78.78-.78 2.05 0 2.83L4 21.41c.39.39.9.59 1.41.59.51 0 1.02-.2 1.41-.59l7.78-7.78 2.81-2.81c.8-.78.8-2.07 0-2.86zM5.41 20L4 18.59l7.72-7.72 1.47 1.35L5.41 20z\"/>\n",
              "  </svg>\n",
              "      </button>\n",
              "      \n",
              "  <style>\n",
              "    .colab-df-container {\n",
              "      display:flex;\n",
              "      flex-wrap:wrap;\n",
              "      gap: 12px;\n",
              "    }\n",
              "\n",
              "    .colab-df-convert {\n",
              "      background-color: #E8F0FE;\n",
              "      border: none;\n",
              "      border-radius: 50%;\n",
              "      cursor: pointer;\n",
              "      display: none;\n",
              "      fill: #1967D2;\n",
              "      height: 32px;\n",
              "      padding: 0 0 0 0;\n",
              "      width: 32px;\n",
              "    }\n",
              "\n",
              "    .colab-df-convert:hover {\n",
              "      background-color: #E2EBFA;\n",
              "      box-shadow: 0px 1px 2px rgba(60, 64, 67, 0.3), 0px 1px 3px 1px rgba(60, 64, 67, 0.15);\n",
              "      fill: #174EA6;\n",
              "    }\n",
              "\n",
              "    [theme=dark] .colab-df-convert {\n",
              "      background-color: #3B4455;\n",
              "      fill: #D2E3FC;\n",
              "    }\n",
              "\n",
              "    [theme=dark] .colab-df-convert:hover {\n",
              "      background-color: #434B5C;\n",
              "      box-shadow: 0px 1px 3px 1px rgba(0, 0, 0, 0.15);\n",
              "      filter: drop-shadow(0px 1px 2px rgba(0, 0, 0, 0.3));\n",
              "      fill: #FFFFFF;\n",
              "    }\n",
              "  </style>\n",
              "\n",
              "      <script>\n",
              "        const buttonEl =\n",
              "          document.querySelector('#df-7308b31d-aec0-4cae-9bd5-c63985a67667 button.colab-df-convert');\n",
              "        buttonEl.style.display =\n",
              "          google.colab.kernel.accessAllowed ? 'block' : 'none';\n",
              "\n",
              "        async function convertToInteractive(key) {\n",
              "          const element = document.querySelector('#df-7308b31d-aec0-4cae-9bd5-c63985a67667');\n",
              "          const dataTable =\n",
              "            await google.colab.kernel.invokeFunction('convertToInteractive',\n",
              "                                                     [key], {});\n",
              "          if (!dataTable) return;\n",
              "\n",
              "          const docLinkHtml = 'Like what you see? Visit the ' +\n",
              "            '<a target=\"_blank\" href=https://colab.research.google.com/notebooks/data_table.ipynb>data table notebook</a>'\n",
              "            + ' to learn more about interactive tables.';\n",
              "          element.innerHTML = '';\n",
              "          dataTable['output_type'] = 'display_data';\n",
              "          await google.colab.output.renderOutput(dataTable, element);\n",
              "          const docLink = document.createElement('div');\n",
              "          docLink.innerHTML = docLinkHtml;\n",
              "          element.appendChild(docLink);\n",
              "        }\n",
              "      </script>\n",
              "    </div>\n",
              "  </div>\n",
              "  "
            ]
          },
          "metadata": {},
          "execution_count": 4
        }
      ],
      "source": [
        "df.head()"
      ]
    },
    {
      "cell_type": "code",
      "execution_count": null,
      "metadata": {
        "colab": {
          "base_uri": "https://localhost:8080/"
        },
        "id": "IR_ksgz5OSL5",
        "outputId": "d58373d9-4685-453d-aa5d-d612c2953f5d"
      },
      "outputs": [
        {
          "output_type": "execute_result",
          "data": {
            "text/plain": [
              "(10000, 14)"
            ]
          },
          "metadata": {},
          "execution_count": 5
        }
      ],
      "source": [
        "df.shape"
      ]
    },
    {
      "cell_type": "code",
      "execution_count": null,
      "metadata": {
        "colab": {
          "base_uri": "https://localhost:8080/"
        },
        "id": "RlrEhE6rOSL6",
        "outputId": "8ac559b5-0c1b-4940-9484-4aa07725bc02"
      },
      "outputs": [
        {
          "output_type": "stream",
          "name": "stdout",
          "text": [
            "<class 'pandas.core.frame.DataFrame'>\n",
            "RangeIndex: 10000 entries, 0 to 9999\n",
            "Data columns (total 14 columns):\n",
            " #   Column           Non-Null Count  Dtype  \n",
            "---  ------           --------------  -----  \n",
            " 0   RowNumber        10000 non-null  int64  \n",
            " 1   CustomerId       10000 non-null  int64  \n",
            " 2   Surname          10000 non-null  object \n",
            " 3   CreditScore      10000 non-null  int64  \n",
            " 4   Geography        10000 non-null  object \n",
            " 5   Gender           10000 non-null  object \n",
            " 6   Age              10000 non-null  int64  \n",
            " 7   Tenure           10000 non-null  int64  \n",
            " 8   Balance          10000 non-null  float64\n",
            " 9   NumOfProducts    10000 non-null  int64  \n",
            " 10  HasCrCard        10000 non-null  int64  \n",
            " 11  IsActiveMember   10000 non-null  int64  \n",
            " 12  EstimatedSalary  10000 non-null  float64\n",
            " 13  Exited           10000 non-null  int64  \n",
            "dtypes: float64(2), int64(9), object(3)\n",
            "memory usage: 1.1+ MB\n"
          ]
        }
      ],
      "source": [
        "df.info() # no null data"
      ]
    },
    {
      "cell_type": "code",
      "execution_count": null,
      "metadata": {
        "id": "NJQSjjATOSL6"
      },
      "outputs": [],
      "source": [
        "drop = [\"RowNumber\",\"CustomerId\",\"Surname\"]"
      ]
    },
    {
      "cell_type": "code",
      "execution_count": null,
      "metadata": {
        "id": "nzdQC90MOSL7"
      },
      "outputs": [],
      "source": [
        "df.drop(df[drop],inplace=True,axis=1)"
      ]
    },
    {
      "cell_type": "code",
      "execution_count": null,
      "metadata": {
        "colab": {
          "base_uri": "https://localhost:8080/"
        },
        "id": "nudfECXgOSL7",
        "outputId": "14a63656-1ae7-42bd-f98f-aabf73e7d472"
      },
      "outputs": [
        {
          "output_type": "execute_result",
          "data": {
            "text/plain": [
              "Index(['CreditScore', 'Geography', 'Gender', 'Age', 'Tenure', 'Balance',\n",
              "       'NumOfProducts', 'HasCrCard', 'IsActiveMember', 'EstimatedSalary',\n",
              "       'Exited'],\n",
              "      dtype='object')"
            ]
          },
          "metadata": {},
          "execution_count": 9
        }
      ],
      "source": [
        "df.columns"
      ]
    },
    {
      "cell_type": "code",
      "execution_count": null,
      "metadata": {
        "colab": {
          "base_uri": "https://localhost:8080/",
          "height": 297
        },
        "id": "NvmsVtWbOSL7",
        "outputId": "2db50a1f-76d6-403d-f955-724d9cdfbc52"
      },
      "outputs": [
        {
          "output_type": "execute_result",
          "data": {
            "text/plain": [
              "       CreditScore       Age    Tenure    Balance  NumOfProducts  HasCrCard  \\\n",
              "count    10000.000 10000.000 10000.000  10000.000      10000.000  10000.000   \n",
              "mean       650.529    38.922     5.013  76485.889          1.530      0.706   \n",
              "std         96.653    10.488     2.892  62397.405          0.582      0.456   \n",
              "min        350.000    18.000     0.000      0.000          1.000      0.000   \n",
              "25%        584.000    32.000     3.000      0.000          1.000      0.000   \n",
              "50%        652.000    37.000     5.000  97198.540          1.000      1.000   \n",
              "75%        718.000    44.000     7.000 127644.240          2.000      1.000   \n",
              "max        850.000    92.000    10.000 250898.090          4.000      1.000   \n",
              "\n",
              "       IsActiveMember  EstimatedSalary    Exited  \n",
              "count       10000.000        10000.000 10000.000  \n",
              "mean            0.515       100090.240     0.204  \n",
              "std             0.500        57510.493     0.403  \n",
              "min             0.000           11.580     0.000  \n",
              "25%             0.000        51002.110     0.000  \n",
              "50%             1.000       100193.915     0.000  \n",
              "75%             1.000       149388.247     0.000  \n",
              "max             1.000       199992.480     1.000  "
            ],
            "text/html": [
              "\n",
              "  <div id=\"df-37264b23-fb80-43c2-9cda-c32f49edb3fa\">\n",
              "    <div class=\"colab-df-container\">\n",
              "      <div>\n",
              "<style scoped>\n",
              "    .dataframe tbody tr th:only-of-type {\n",
              "        vertical-align: middle;\n",
              "    }\n",
              "\n",
              "    .dataframe tbody tr th {\n",
              "        vertical-align: top;\n",
              "    }\n",
              "\n",
              "    .dataframe thead th {\n",
              "        text-align: right;\n",
              "    }\n",
              "</style>\n",
              "<table border=\"1\" class=\"dataframe\">\n",
              "  <thead>\n",
              "    <tr style=\"text-align: right;\">\n",
              "      <th></th>\n",
              "      <th>CreditScore</th>\n",
              "      <th>Age</th>\n",
              "      <th>Tenure</th>\n",
              "      <th>Balance</th>\n",
              "      <th>NumOfProducts</th>\n",
              "      <th>HasCrCard</th>\n",
              "      <th>IsActiveMember</th>\n",
              "      <th>EstimatedSalary</th>\n",
              "      <th>Exited</th>\n",
              "    </tr>\n",
              "  </thead>\n",
              "  <tbody>\n",
              "    <tr>\n",
              "      <th>count</th>\n",
              "      <td>10000.000</td>\n",
              "      <td>10000.000</td>\n",
              "      <td>10000.000</td>\n",
              "      <td>10000.000</td>\n",
              "      <td>10000.000</td>\n",
              "      <td>10000.000</td>\n",
              "      <td>10000.000</td>\n",
              "      <td>10000.000</td>\n",
              "      <td>10000.000</td>\n",
              "    </tr>\n",
              "    <tr>\n",
              "      <th>mean</th>\n",
              "      <td>650.529</td>\n",
              "      <td>38.922</td>\n",
              "      <td>5.013</td>\n",
              "      <td>76485.889</td>\n",
              "      <td>1.530</td>\n",
              "      <td>0.706</td>\n",
              "      <td>0.515</td>\n",
              "      <td>100090.240</td>\n",
              "      <td>0.204</td>\n",
              "    </tr>\n",
              "    <tr>\n",
              "      <th>std</th>\n",
              "      <td>96.653</td>\n",
              "      <td>10.488</td>\n",
              "      <td>2.892</td>\n",
              "      <td>62397.405</td>\n",
              "      <td>0.582</td>\n",
              "      <td>0.456</td>\n",
              "      <td>0.500</td>\n",
              "      <td>57510.493</td>\n",
              "      <td>0.403</td>\n",
              "    </tr>\n",
              "    <tr>\n",
              "      <th>min</th>\n",
              "      <td>350.000</td>\n",
              "      <td>18.000</td>\n",
              "      <td>0.000</td>\n",
              "      <td>0.000</td>\n",
              "      <td>1.000</td>\n",
              "      <td>0.000</td>\n",
              "      <td>0.000</td>\n",
              "      <td>11.580</td>\n",
              "      <td>0.000</td>\n",
              "    </tr>\n",
              "    <tr>\n",
              "      <th>25%</th>\n",
              "      <td>584.000</td>\n",
              "      <td>32.000</td>\n",
              "      <td>3.000</td>\n",
              "      <td>0.000</td>\n",
              "      <td>1.000</td>\n",
              "      <td>0.000</td>\n",
              "      <td>0.000</td>\n",
              "      <td>51002.110</td>\n",
              "      <td>0.000</td>\n",
              "    </tr>\n",
              "    <tr>\n",
              "      <th>50%</th>\n",
              "      <td>652.000</td>\n",
              "      <td>37.000</td>\n",
              "      <td>5.000</td>\n",
              "      <td>97198.540</td>\n",
              "      <td>1.000</td>\n",
              "      <td>1.000</td>\n",
              "      <td>1.000</td>\n",
              "      <td>100193.915</td>\n",
              "      <td>0.000</td>\n",
              "    </tr>\n",
              "    <tr>\n",
              "      <th>75%</th>\n",
              "      <td>718.000</td>\n",
              "      <td>44.000</td>\n",
              "      <td>7.000</td>\n",
              "      <td>127644.240</td>\n",
              "      <td>2.000</td>\n",
              "      <td>1.000</td>\n",
              "      <td>1.000</td>\n",
              "      <td>149388.247</td>\n",
              "      <td>0.000</td>\n",
              "    </tr>\n",
              "    <tr>\n",
              "      <th>max</th>\n",
              "      <td>850.000</td>\n",
              "      <td>92.000</td>\n",
              "      <td>10.000</td>\n",
              "      <td>250898.090</td>\n",
              "      <td>4.000</td>\n",
              "      <td>1.000</td>\n",
              "      <td>1.000</td>\n",
              "      <td>199992.480</td>\n",
              "      <td>1.000</td>\n",
              "    </tr>\n",
              "  </tbody>\n",
              "</table>\n",
              "</div>\n",
              "      <button class=\"colab-df-convert\" onclick=\"convertToInteractive('df-37264b23-fb80-43c2-9cda-c32f49edb3fa')\"\n",
              "              title=\"Convert this dataframe to an interactive table.\"\n",
              "              style=\"display:none;\">\n",
              "        \n",
              "  <svg xmlns=\"http://www.w3.org/2000/svg\" height=\"24px\"viewBox=\"0 0 24 24\"\n",
              "       width=\"24px\">\n",
              "    <path d=\"M0 0h24v24H0V0z\" fill=\"none\"/>\n",
              "    <path d=\"M18.56 5.44l.94 2.06.94-2.06 2.06-.94-2.06-.94-.94-2.06-.94 2.06-2.06.94zm-11 1L8.5 8.5l.94-2.06 2.06-.94-2.06-.94L8.5 2.5l-.94 2.06-2.06.94zm10 10l.94 2.06.94-2.06 2.06-.94-2.06-.94-.94-2.06-.94 2.06-2.06.94z\"/><path d=\"M17.41 7.96l-1.37-1.37c-.4-.4-.92-.59-1.43-.59-.52 0-1.04.2-1.43.59L10.3 9.45l-7.72 7.72c-.78.78-.78 2.05 0 2.83L4 21.41c.39.39.9.59 1.41.59.51 0 1.02-.2 1.41-.59l7.78-7.78 2.81-2.81c.8-.78.8-2.07 0-2.86zM5.41 20L4 18.59l7.72-7.72 1.47 1.35L5.41 20z\"/>\n",
              "  </svg>\n",
              "      </button>\n",
              "      \n",
              "  <style>\n",
              "    .colab-df-container {\n",
              "      display:flex;\n",
              "      flex-wrap:wrap;\n",
              "      gap: 12px;\n",
              "    }\n",
              "\n",
              "    .colab-df-convert {\n",
              "      background-color: #E8F0FE;\n",
              "      border: none;\n",
              "      border-radius: 50%;\n",
              "      cursor: pointer;\n",
              "      display: none;\n",
              "      fill: #1967D2;\n",
              "      height: 32px;\n",
              "      padding: 0 0 0 0;\n",
              "      width: 32px;\n",
              "    }\n",
              "\n",
              "    .colab-df-convert:hover {\n",
              "      background-color: #E2EBFA;\n",
              "      box-shadow: 0px 1px 2px rgba(60, 64, 67, 0.3), 0px 1px 3px 1px rgba(60, 64, 67, 0.15);\n",
              "      fill: #174EA6;\n",
              "    }\n",
              "\n",
              "    [theme=dark] .colab-df-convert {\n",
              "      background-color: #3B4455;\n",
              "      fill: #D2E3FC;\n",
              "    }\n",
              "\n",
              "    [theme=dark] .colab-df-convert:hover {\n",
              "      background-color: #434B5C;\n",
              "      box-shadow: 0px 1px 3px 1px rgba(0, 0, 0, 0.15);\n",
              "      filter: drop-shadow(0px 1px 2px rgba(0, 0, 0, 0.3));\n",
              "      fill: #FFFFFF;\n",
              "    }\n",
              "  </style>\n",
              "\n",
              "      <script>\n",
              "        const buttonEl =\n",
              "          document.querySelector('#df-37264b23-fb80-43c2-9cda-c32f49edb3fa button.colab-df-convert');\n",
              "        buttonEl.style.display =\n",
              "          google.colab.kernel.accessAllowed ? 'block' : 'none';\n",
              "\n",
              "        async function convertToInteractive(key) {\n",
              "          const element = document.querySelector('#df-37264b23-fb80-43c2-9cda-c32f49edb3fa');\n",
              "          const dataTable =\n",
              "            await google.colab.kernel.invokeFunction('convertToInteractive',\n",
              "                                                     [key], {});\n",
              "          if (!dataTable) return;\n",
              "\n",
              "          const docLinkHtml = 'Like what you see? Visit the ' +\n",
              "            '<a target=\"_blank\" href=https://colab.research.google.com/notebooks/data_table.ipynb>data table notebook</a>'\n",
              "            + ' to learn more about interactive tables.';\n",
              "          element.innerHTML = '';\n",
              "          dataTable['output_type'] = 'display_data';\n",
              "          await google.colab.output.renderOutput(dataTable, element);\n",
              "          const docLink = document.createElement('div');\n",
              "          docLink.innerHTML = docLinkHtml;\n",
              "          element.appendChild(docLink);\n",
              "        }\n",
              "      </script>\n",
              "    </div>\n",
              "  </div>\n",
              "  "
            ]
          },
          "metadata": {},
          "execution_count": 10
        }
      ],
      "source": [
        "df.describe()"
      ]
    },
    {
      "cell_type": "code",
      "execution_count": null,
      "metadata": {
        "colab": {
          "base_uri": "https://localhost:8080/",
          "height": 1000
        },
        "id": "Rsu4EWQGOSL8",
        "outputId": "adad88a0-40d8-49d3-fa1b-38652728084a"
      },
      "outputs": [
        {
          "output_type": "display_data",
          "data": {
            "text/plain": [
              "<Figure size 1440x1440 with 2 Axes>"
            ],
            "image/png": "[encoded data removed]"
          },
          "metadata": {}
        }
      ],
      "source": [
        "plt.figure(figsize=(20,20))\n",
        "sns.heatmap(df.corr(), annot=True);\n",
        "#we dont seem to have multicolenary"
      ]
    },
    {
      "cell_type": "code",
      "execution_count": null,
      "metadata": {
        "colab": {
          "base_uri": "https://localhost:8080/",
          "height": 388
        },
        "id": "PD4D6pHkOSL8",
        "outputId": "3ee2e726-df6a-4169-cae7-078429365204"
      },
      "outputs": [
        {
          "output_type": "display_data",
          "data": {
            "text/plain": [
              "<Figure size 720x432 with 1 Axes>"
            ],
            "image/png": "[encoded data removed]"
          },
          "metadata": {}
        }
      ],
      "source": [
        "sns.countplot(df[\"Gender\"]);"
      ]
    },
    {
      "cell_type": "code",
      "execution_count": null,
      "metadata": {
        "id": "Dy0WFIw5OSL9",
        "outputId": "c468432f-435f-4198-afd3-f140eed1ce33"
      },
      "outputs": [
        {
          "data": {
            "image/png": "[encoded data removed]",
            "text/plain": [
              "<Figure size 720x432 with 1 Axes>"
            ]
          },
          "metadata": {},
          "output_type": "display_data"
        }
      ],
      "source": [
        "sns.countplot(df[\"Geography\"]);"
      ]
    },
    {
      "cell_type": "code",
      "execution_count": null,
      "metadata": {
        "id": "N6JjKmsJOSL9",
        "outputId": "82386aa6-864c-4bb1-974e-3b82829460fc"
      },
      "outputs": [
        {
          "data": {
            "image/png": "[encoded data removed]",
            "text/plain": [
              "<Figure size 720x432 with 1 Axes>"
            ]
          },
          "metadata": {},
          "output_type": "display_data"
        }
      ],
      "source": [
        "sns.histplot(df.Balance);"
      ]
    },
    {
      "cell_type": "code",
      "execution_count": null,
      "metadata": {
        "id": "yg3myDsKOSL-",
        "outputId": "0b5e9758-dcb1-4a57-8489-24b3b8c9f437"
      },
      "outputs": [
        {
          "data": {
            "image/png": "[encoded data removed]",
            "text/plain": [
              "<Figure size 720x432 with 1 Axes>"
            ]
          },
          "metadata": {},
          "output_type": "display_data"
        }
      ],
      "source": [
        "sns.histplot(df.EstimatedSalary);"
      ]
    },
    {
      "cell_type": "code",
      "execution_count": null,
      "metadata": {
        "id": "wlID4pZFOSL-"
      },
      "outputs": [],
      "source": [
        "df = pd.get_dummies(df,columns=[\"Geography\",\"Gender\"])"
      ]
    },
    {
      "cell_type": "code",
      "execution_count": null,
      "metadata": {
        "colab": {
          "base_uri": "https://localhost:8080/",
          "height": 483
        },
        "id": "aKOTdBiyOSL-",
        "outputId": "5dc2c6ab-fb89-42ef-bb06-dfd4e3f56596"
      },
      "outputs": [
        {
          "output_type": "execute_result",
          "data": {
            "text/plain": [
              "      CreditScore  Age  Tenure    Balance  NumOfProducts  HasCrCard  \\\n",
              "0             619   42       2      0.000              1          1   \n",
              "1             608   41       1  83807.860              1          0   \n",
              "2             502   42       8 159660.800              3          1   \n",
              "3             699   39       1      0.000              2          0   \n",
              "4             850   43       2 125510.820              1          1   \n",
              "...           ...  ...     ...        ...            ...        ...   \n",
              "9995          771   39       5      0.000              2          1   \n",
              "9996          516   35      10  57369.610              1          1   \n",
              "9997          709   36       7      0.000              1          0   \n",
              "9998          772   42       3  75075.310              2          1   \n",
              "9999          792   28       4 130142.790              1          1   \n",
              "\n",
              "      IsActiveMember  EstimatedSalary  Exited  Geography_France  \\\n",
              "0                  1       101348.880       1                 1   \n",
              "1                  1       112542.580       0                 0   \n",
              "2                  0       113931.570       1                 1   \n",
              "3                  0        93826.630       0                 1   \n",
              "4                  1        79084.100       0                 0   \n",
              "...              ...              ...     ...               ...   \n",
              "9995               0        96270.640       0                 1   \n",
              "9996               1       101699.770       0                 1   \n",
              "9997               1        42085.580       1                 1   \n",
              "9998               0        92888.520       1                 0   \n",
              "9999               0        38190.780       0                 1   \n",
              "\n",
              "      Geography_Germany  Geography_Spain  Gender_Female  Gender_Male  \n",
              "0                     0                0              1            0  \n",
              "1                     0                1              1            0  \n",
              "2                     0                0              1            0  \n",
              "3                     0                0              1            0  \n",
              "4                     0                1              1            0  \n",
              "...                 ...              ...            ...          ...  \n",
              "9995                  0                0              0            1  \n",
              "9996                  0                0              0            1  \n",
              "9997                  0                0              1            0  \n",
              "9998                  1                0              0            1  \n",
              "9999                  0                0              1            0  \n",
              "\n",
              "[10000 rows x 14 columns]"
            ],
            "text/html": [
              "\n",
              "  <div id=\"df-ed354938-c2ac-4a2c-b252-e52535b0a331\">\n",
              "    <div class=\"colab-df-container\">\n",
              "      <div>\n",
              "<style scoped>\n",
              "    .dataframe tbody tr th:only-of-type {\n",
              "        vertical-align: middle;\n",
              "    }\n",
              "\n",
              "    .dataframe tbody tr th {\n",
              "        vertical-align: top;\n",
              "    }\n",
              "\n",
              "    .dataframe thead th {\n",
              "        text-align: right;\n",
              "    }\n",
              "</style>\n",
              "<table border=\"1\" class=\"dataframe\">\n",
              "  <thead>\n",
              "    <tr style=\"text-align: right;\">\n",
              "      <th></th>\n",
              "      <th>CreditScore</th>\n",
              "      <th>Age</th>\n",
              "      <th>Tenure</th>\n",
              "      <th>Balance</th>\n",
              "      <th>NumOfProducts</th>\n",
              "      <th>HasCrCard</th>\n",
              "      <th>IsActiveMember</th>\n",
              "      <th>EstimatedSalary</th>\n",
              "      <th>Exited</th>\n",
              "      <th>Geography_France</th>\n",
              "      <th>Geography_Germany</th>\n",
              "      <th>Geography_Spain</th>\n",
              "      <th>Gender_Female</th>\n",
              "      <th>Gender_Male</th>\n",
              "    </tr>\n",
              "  </thead>\n",
              "  <tbody>\n",
              "    <tr>\n",
              "      <th>0</th>\n",
              "      <td>619</td>\n",
              "      <td>42</td>\n",
              "      <td>2</td>\n",
              "      <td>0.000</td>\n",
              "      <td>1</td>\n",
              "      <td>1</td>\n",
              "      <td>1</td>\n",
              "      <td>101348.880</td>\n",
              "      <td>1</td>\n",
              "      <td>1</td>\n",
              "      <td>0</td>\n",
              "      <td>0</td>\n",
              "      <td>1</td>\n",
              "      <td>0</td>\n",
              "    </tr>\n",
              "    <tr>\n",
              "      <th>1</th>\n",
              "      <td>608</td>\n",
              "      <td>41</td>\n",
              "      <td>1</td>\n",
              "      <td>83807.860</td>\n",
              "      <td>1</td>\n",
              "      <td>0</td>\n",
              "      <td>1</td>\n",
              "      <td>112542.580</td>\n",
              "      <td>0</td>\n",
              "      <td>0</td>\n",
              "      <td>0</td>\n",
              "      <td>1</td>\n",
              "      <td>1</td>\n",
              "      <td>0</td>\n",
              "    </tr>\n",
              "    <tr>\n",
              "      <th>2</th>\n",
              "      <td>502</td>\n",
              "      <td>42</td>\n",
              "      <td>8</td>\n",
              "      <td>159660.800</td>\n",
              "      <td>3</td>\n",
              "      <td>1</td>\n",
              "      <td>0</td>\n",
              "      <td>113931.570</td>\n",
              "      <td>1</td>\n",
              "      <td>1</td>\n",
              "      <td>0</td>\n",
              "      <td>0</td>\n",
              "      <td>1</td>\n",
              "      <td>0</td>\n",
              "    </tr>\n",
              "    <tr>\n",
              "      <th>3</th>\n",
              "      <td>699</td>\n",
              "      <td>39</td>\n",
              "      <td>1</td>\n",
              "      <td>0.000</td>\n",
              "      <td>2</td>\n",
              "      <td>0</td>\n",
              "      <td>0</td>\n",
              "      <td>93826.630</td>\n",
              "      <td>0</td>\n",
              "      <td>1</td>\n",
              "      <td>0</td>\n",
              "      <td>0</td>\n",
              "      <td>1</td>\n",
              "      <td>0</td>\n",
              "    </tr>\n",
              "    <tr>\n",
              "      <th>4</th>\n",
              "      <td>850</td>\n",
              "      <td>43</td>\n",
              "      <td>2</td>\n",
              "      <td>125510.820</td>\n",
              "      <td>1</td>\n",
              "      <td>1</td>\n",
              "      <td>1</td>\n",
              "      <td>79084.100</td>\n",
              "      <td>0</td>\n",
              "      <td>0</td>\n",
              "      <td>0</td>\n",
              "      <td>1</td>\n",
              "      <td>1</td>\n",
              "      <td>0</td>\n",
              "    </tr>\n",
              "    <tr>\n",
              "      <th>...</th>\n",
              "      <td>...</td>\n",
              "      <td>...</td>\n",
              "      <td>...</td>\n",
              "      <td>...</td>\n",
              "      <td>...</td>\n",
              "      <td>...</td>\n",
              "      <td>...</td>\n",
              "      <td>...</td>\n",
              "      <td>...</td>\n",
              "      <td>...</td>\n",
              "      <td>...</td>\n",
              "      <td>...</td>\n",
              "      <td>...</td>\n",
              "      <td>...</td>\n",
              "    </tr>\n",
              "    <tr>\n",
              "      <th>9995</th>\n",
              "      <td>771</td>\n",
              "      <td>39</td>\n",
              "      <td>5</td>\n",
              "      <td>0.000</td>\n",
              "      <td>2</td>\n",
              "      <td>1</td>\n",
              "      <td>0</td>\n",
              "      <td>96270.640</td>\n",
              "      <td>0</td>\n",
              "      <td>1</td>\n",
              "      <td>0</td>\n",
              "      <td>0</td>\n",
              "      <td>0</td>\n",
              "      <td>1</td>\n",
              "    </tr>\n",
              "    <tr>\n",
              "      <th>9996</th>\n",
              "      <td>516</td>\n",
              "      <td>35</td>\n",
              "      <td>10</td>\n",
              "      <td>57369.610</td>\n",
              "      <td>1</td>\n",
              "      <td>1</td>\n",
              "      <td>1</td>\n",
              "      <td>101699.770</td>\n",
              "      <td>0</td>\n",
              "      <td>1</td>\n",
              "      <td>0</td>\n",
              "      <td>0</td>\n",
              "      <td>0</td>\n",
              "      <td>1</td>\n",
              "    </tr>\n",
              "    <tr>\n",
              "      <th>9997</th>\n",
              "      <td>709</td>\n",
              "      <td>36</td>\n",
              "      <td>7</td>\n",
              "      <td>0.000</td>\n",
              "      <td>1</td>\n",
              "      <td>0</td>\n",
              "      <td>1</td>\n",
              "      <td>42085.580</td>\n",
              "      <td>1</td>\n",
              "      <td>1</td>\n",
              "      <td>0</td>\n",
              "      <td>0</td>\n",
              "      <td>1</td>\n",
              "      <td>0</td>\n",
              "    </tr>\n",
              "    <tr>\n",
              "      <th>9998</th>\n",
              "      <td>772</td>\n",
              "      <td>42</td>\n",
              "      <td>3</td>\n",
              "      <td>75075.310</td>\n",
              "      <td>2</td>\n",
              "      <td>1</td>\n",
              "      <td>0</td>\n",
              "      <td>92888.520</td>\n",
              "      <td>1</td>\n",
              "      <td>0</td>\n",
              "      <td>1</td>\n",
              "      <td>0</td>\n",
              "      <td>0</td>\n",
              "      <td>1</td>\n",
              "    </tr>\n",
              "    <tr>\n",
              "      <th>9999</th>\n",
              "      <td>792</td>\n",
              "      <td>28</td>\n",
              "      <td>4</td>\n",
              "      <td>130142.790</td>\n",
              "      <td>1</td>\n",
              "      <td>1</td>\n",
              "      <td>0</td>\n",
              "      <td>38190.780</td>\n",
              "      <td>0</td>\n",
              "      <td>1</td>\n",
              "      <td>0</td>\n",
              "      <td>0</td>\n",
              "      <td>1</td>\n",
              "      <td>0</td>\n",
              "    </tr>\n",
              "  </tbody>\n",
              "</table>\n",
              "<p>10000 rows × 14 columns</p>\n",
              "</div>\n",
              "      <button class=\"colab-df-convert\" onclick=\"convertToInteractive('df-ed354938-c2ac-4a2c-b252-e52535b0a331')\"\n",
              "              title=\"Convert this dataframe to an interactive table.\"\n",
              "              style=\"display:none;\">\n",
              "        \n",
              "  <svg xmlns=\"http://www.w3.org/2000/svg\" height=\"24px\"viewBox=\"0 0 24 24\"\n",
              "       width=\"24px\">\n",
              "    <path d=\"M0 0h24v24H0V0z\" fill=\"none\"/>\n",
              "    <path d=\"M18.56 5.44l.94 2.06.94-2.06 2.06-.94-2.06-.94-.94-2.06-.94 2.06-2.06.94zm-11 1L8.5 8.5l.94-2.06 2.06-.94-2.06-.94L8.5 2.5l-.94 2.06-2.06.94zm10 10l.94 2.06.94-2.06 2.06-.94-2.06-.94-.94-2.06-.94 2.06-2.06.94z\"/><path d=\"M17.41 7.96l-1.37-1.37c-.4-.4-.92-.59-1.43-.59-.52 0-1.04.2-1.43.59L10.3 9.45l-7.72 7.72c-.78.78-.78 2.05 0 2.83L4 21.41c.39.39.9.59 1.41.59.51 0 1.02-.2 1.41-.59l7.78-7.78 2.81-2.81c.8-.78.8-2.07 0-2.86zM5.41 20L4 18.59l7.72-7.72 1.47 1.35L5.41 20z\"/>\n",
              "  </svg>\n",
              "      </button>\n",
              "      \n",
              "  <style>\n",
              "    .colab-df-container {\n",
              "      display:flex;\n",
              "      flex-wrap:wrap;\n",
              "      gap: 12px;\n",
              "    }\n",
              "\n",
              "    .colab-df-convert {\n",
              "      background-color: #E8F0FE;\n",
              "      border: none;\n",
              "      border-radius: 50%;\n",
              "      cursor: pointer;\n",
              "      display: none;\n",
              "      fill: #1967D2;\n",
              "      height: 32px;\n",
              "      padding: 0 0 0 0;\n",
              "      width: 32px;\n",
              "    }\n",
              "\n",
              "    .colab-df-convert:hover {\n",
              "      background-color: #E2EBFA;\n",
              "      box-shadow: 0px 1px 2px rgba(60, 64, 67, 0.3), 0px 1px 3px 1px rgba(60, 64, 67, 0.15);\n",
              "      fill: #174EA6;\n",
              "    }\n",
              "\n",
              "    [theme=dark] .colab-df-convert {\n",
              "      background-color: #3B4455;\n",
              "      fill: #D2E3FC;\n",
              "    }\n",
              "\n",
              "    [theme=dark] .colab-df-convert:hover {\n",
              "      background-color: #434B5C;\n",
              "      box-shadow: 0px 1px 3px 1px rgba(0, 0, 0, 0.15);\n",
              "      filter: drop-shadow(0px 1px 2px rgba(0, 0, 0, 0.3));\n",
              "      fill: #FFFFFF;\n",
              "    }\n",
              "  </style>\n",
              "\n",
              "      <script>\n",
              "        const buttonEl =\n",
              "          document.querySelector('#df-ed354938-c2ac-4a2c-b252-e52535b0a331 button.colab-df-convert');\n",
              "        buttonEl.style.display =\n",
              "          google.colab.kernel.accessAllowed ? 'block' : 'none';\n",
              "\n",
              "        async function convertToInteractive(key) {\n",
              "          const element = document.querySelector('#df-ed354938-c2ac-4a2c-b252-e52535b0a331');\n",
              "          const dataTable =\n",
              "            await google.colab.kernel.invokeFunction('convertToInteractive',\n",
              "                                                     [key], {});\n",
              "          if (!dataTable) return;\n",
              "\n",
              "          const docLinkHtml = 'Like what you see? Visit the ' +\n",
              "            '<a target=\"_blank\" href=https://colab.research.google.com/notebooks/data_table.ipynb>data table notebook</a>'\n",
              "            + ' to learn more about interactive tables.';\n",
              "          element.innerHTML = '';\n",
              "          dataTable['output_type'] = 'display_data';\n",
              "          await google.colab.output.renderOutput(dataTable, element);\n",
              "          const docLink = document.createElement('div');\n",
              "          docLink.innerHTML = docLinkHtml;\n",
              "          element.appendChild(docLink);\n",
              "        }\n",
              "      </script>\n",
              "    </div>\n",
              "  </div>\n",
              "  "
            ]
          },
          "metadata": {},
          "execution_count": 14
        }
      ],
      "source": [
        "df"
      ]
    },
    {
      "cell_type": "markdown",
      "metadata": {
        "id": "aWPP4F3POSL_"
      },
      "source": [
        "# Preprocessing of Data\n",
        "- Train | Test Split, Scalling"
      ]
    },
    {
      "cell_type": "code",
      "execution_count": null,
      "metadata": {
        "id": "I0TmfrcxOSL_"
      },
      "outputs": [],
      "source": [
        "from sklearn.model_selection import train_test_split\n",
        "from sklearn.preprocessing import MinMaxScaler"
      ]
    },
    {
      "cell_type": "code",
      "execution_count": null,
      "metadata": {
        "id": "yR29PP6eOSL_"
      },
      "outputs": [],
      "source": [
        "X = df.drop('Exited', axis=1)\n",
        "y = df['Exited']"
      ]
    },
    {
      "cell_type": "code",
      "execution_count": null,
      "metadata": {
        "id": "c_sk-L_TOSMA"
      },
      "outputs": [],
      "source": [
        "seed = 42"
      ]
    },
    {
      "cell_type": "code",
      "execution_count": null,
      "metadata": {
        "id": "5ZMITbE6OSMA"
      },
      "outputs": [],
      "source": [
        "X_train, X_test, y_train, y_test = train_test_split(X, y, stratify = y, test_size = 0.10, random_state = seed)"
      ]
    },
    {
      "cell_type": "code",
      "execution_count": null,
      "metadata": {
        "id": "Izv5kaE3OSMA"
      },
      "outputs": [],
      "source": [
        "scaler = MinMaxScaler()"
      ]
    },
    {
      "cell_type": "code",
      "execution_count": null,
      "metadata": {
        "id": "s_qmXhBoOSMA"
      },
      "outputs": [],
      "source": [
        "X_train= scaler.fit_transform(X_train)\n",
        "X_test = scaler.transform(X_test)"
      ]
    },
    {
      "cell_type": "markdown",
      "metadata": {
        "id": "Ha9hDt_AoGaE"
      },
      "source": [
        "# Modelling & Model Performance"
      ]
    },
    {
      "cell_type": "markdown",
      "metadata": {
        "id": "pa0sgz51OSMB"
      },
      "source": [
        "## without class_weigth"
      ]
    },
    {
      "cell_type": "markdown",
      "metadata": {
        "id": "I2aXeFYrOSMB"
      },
      "source": [
        "### Create The Model"
      ]
    },
    {
      "cell_type": "code",
      "execution_count": null,
      "metadata": {
        "id": "mYptV6euOSMB"
      },
      "outputs": [],
      "source": [
        "#!pip3 install tensorflow"
      ]
    },
    {
      "cell_type": "code",
      "execution_count": null,
      "metadata": {
        "id": "UzpxSH5rOSMC"
      },
      "outputs": [],
      "source": [
        "import tensorflow as tf\n",
        "from tensorflow.keras.models import Sequential\n",
        "from tensorflow.keras.layers import Dense, Activation\n",
        "from sklearn.metrics import classification_report, confusion_matrix\n",
        "from sklearn.metrics import plot_roc_curve, roc_auc_score, roc_curve\n",
        "from sklearn.model_selection import cross_val_score, cross_validate\n",
        "from sklearn.model_selection import GridSearchCV"
      ]
    },
    {
      "cell_type": "code",
      "execution_count": null,
      "metadata": {
        "colab": {
          "base_uri": "https://localhost:8080/"
        },
        "id": "ZX_DZ_9aOSMC",
        "outputId": "21395752-ed3e-4adb-e6db-287d649189c8"
      },
      "outputs": [
        {
          "output_type": "execute_result",
          "data": {
            "text/plain": [
              "(9000, 13)"
            ]
          },
          "metadata": {},
          "execution_count": 25
        }
      ],
      "source": [
        "X_train.shape"
      ]
    },
    {
      "cell_type": "code",
      "source": [
        "X_test.shape"
      ],
      "metadata": {
        "colab": {
          "base_uri": "https://localhost:8080/"
        },
        "id": "suxuEqkOrUT5",
        "outputId": "58744a1d-df26-41f5-a010-1addb132339b"
      },
      "execution_count": null,
      "outputs": [
        {
          "output_type": "execute_result",
          "data": {
            "text/plain": [
              "(1000, 13)"
            ]
          },
          "metadata": {},
          "execution_count": 26
        }
      ]
    },
    {
      "cell_type": "code",
      "source": [
        "tf.random.set_seed(seed)\n",
        "\n",
        "model = Sequential()\n",
        "\n",
        "model.add(Dense(24, activation = \"relu\", input_dim = X_train.shape[1]))\n",
        "model.add(Dense(12, activation = \"relu\"))\n",
        "model.add(Dense(6, activation = \"relu\"))\n",
        "model.add(Dense(1, activation = \"sigmoid\"))\n",
        "\n",
        "model.compile(optimizer = \"adam\", loss = \"binary_crossentropy\", metrics = [\"accuracy\"])"
      ],
      "metadata": {
        "id": "BGWZTgMvrUV-"
      },
      "execution_count": null,
      "outputs": []
    },
    {
      "cell_type": "markdown",
      "metadata": {
        "id": "DPSwkctxOSMC"
      },
      "source": [
        "### Evaluate The Model\n",
        "\n",
        "- Plot the model history to observe the changing of metrics\n",
        "- Make prediction to see \"confusion matrix\" and \"classification report\"\n",
        "- Check ROC (Receiver Operating Curve) and AUC (Area Under Curve) for the model"
      ]
    },
    {
      "cell_type": "code",
      "source": [
        "loss, accuracy = model.evaluate(X_test, y_test, verbose=0)\n",
        "print(\"loss : \", loss)\n",
        "print(\"accuracy : \", accuracy)"
      ],
      "metadata": {
        "colab": {
          "base_uri": "https://localhost:8080/"
        },
        "id": "IksLTbOg54Iq",
        "outputId": "a53345e0-1423-42f7-e38a-bbaf067c8073"
      },
      "execution_count": null,
      "outputs": [
        {
          "output_type": "stream",
          "name": "stdout",
          "text": [
            "loss :  0.6544581651687622\n",
            "accuracy :  0.7950000166893005\n"
          ]
        }
      ]
    },
    {
      "cell_type": "markdown",
      "metadata": {
        "id": "1mX8IXyCOSMC"
      },
      "source": [
        "## with class_weigth\n",
        "\n",
        "Investigate how the \"class_weight\" hyper-parameter is used in a Neural Network."
      ]
    },
    {
      "cell_type": "code",
      "source": [
        "from tensorflow.keras.optimizers import Adam"
      ],
      "metadata": {
        "id": "gul3aCAc_aML"
      },
      "execution_count": 41,
      "outputs": []
    },
    {
      "cell_type": "code",
      "source": [
        "tf.random.set_seed(42)\n",
        "\n",
        "model = Sequential()\n",
        "\n",
        "model.add(Dense(24, activation=\"relu\"))\n",
        "model.add(Dense(12, activation=\"relu\"))\n",
        "model.add(Dense(6, activation=\"relu\"))\n",
        "model.add(Dense(1, activation=\"sigmoid\"))\n",
        "\n",
        "opt = Adam(lr=0.001)\n",
        "model.compile(optimizer=opt, \n",
        "              loss=\"binary_crossentropy\",\n",
        "              metrics=[\"Recall\"])"
      ],
      "metadata": {
        "id": "_gi4vS5f_VkF"
      },
      "execution_count": 42,
      "outputs": []
    },
    {
      "cell_type": "code",
      "source": [
        "from sklearn.utils import class_weight\n",
        "\n",
        "class_weights = class_weight.compute_class_weight('balanced',\n",
        "                                                  classes=np.unique(y_train),\n",
        "                                                  y=y_train)\n",
        "\n",
        "class_weights = {0: class_weights[0], 1: class_weights[1]}\n",
        "class_weights"
      ],
      "metadata": {
        "id": "_JQWFWG86Kud",
        "colab": {
          "base_uri": "https://localhost:8080/"
        },
        "outputId": "d7cb9a50-6689-422e-d226-a1bc39b94130"
      },
      "execution_count": 43,
      "outputs": [
        {
          "output_type": "execute_result",
          "data": {
            "text/plain": [
              "{0: 0.6278777731268314, 1: 2.454991816693944}"
            ]
          },
          "metadata": {},
          "execution_count": 43
        }
      ]
    },
    {
      "cell_type": "code",
      "source": [
        "model.fit(x=X_train,\n",
        "          y=y_train,\n",
        "          validation_split=.1,\n",
        "          batch_size=128,\n",
        "          epochs=200,\n",
        "          verbose=1,\n",
        "          class_weight=class_weights)"
      ],
      "metadata": {
        "id": "9Fzwkfew6Kyu",
        "colab": {
          "base_uri": "https://localhost:8080/"
        },
        "outputId": "3d5aa973-ed94-451b-a53e-552c1168df66"
      },
      "execution_count": 44,
      "outputs": [
        {
          "output_type": "stream",
          "name": "stdout",
          "text": [
            "Epoch 1/200\n",
            "64/64 [==============================] - 2s 15ms/step - loss: 0.6860 - recall: 0.2518 - val_loss: 0.6540 - val_recall: 0.3923\n",
            "Epoch 2/200\n",
            "64/64 [==============================] - 0s 4ms/step - loss: 0.6610 - recall: 0.4764 - val_loss: 0.6422 - val_recall: 0.5967\n",
            "Epoch 3/200\n",
            "64/64 [==============================] - 0s 4ms/step - loss: 0.6343 - recall: 0.5908 - val_loss: 0.5961 - val_recall: 0.6077\n",
            "Epoch 4/200\n",
            "64/64 [==============================] - 0s 5ms/step - loss: 0.6177 - recall: 0.6429 - val_loss: 0.5767 - val_recall: 0.6519\n",
            "Epoch 5/200\n",
            "64/64 [==============================] - 1s 11ms/step - loss: 0.6057 - recall: 0.6659 - val_loss: 0.5889 - val_recall: 0.6961\n",
            "Epoch 6/200\n",
            "64/64 [==============================] - 0s 7ms/step - loss: 0.5940 - recall: 0.6689 - val_loss: 0.5251 - val_recall: 0.6298\n",
            "Epoch 7/200\n",
            "64/64 [==============================] - 0s 4ms/step - loss: 0.5844 - recall: 0.6768 - val_loss: 0.5595 - val_recall: 0.6685\n",
            "Epoch 8/200\n",
            "64/64 [==============================] - 1s 8ms/step - loss: 0.5753 - recall: 0.6852 - val_loss: 0.5920 - val_recall: 0.7680\n",
            "Epoch 9/200\n",
            "64/64 [==============================] - 1s 12ms/step - loss: 0.5684 - recall: 0.7100 - val_loss: 0.5822 - val_recall: 0.7680\n",
            "Epoch 10/200\n",
            "64/64 [==============================] - 0s 6ms/step - loss: 0.5617 - recall: 0.7088 - val_loss: 0.5281 - val_recall: 0.7182\n",
            "Epoch 11/200\n",
            "64/64 [==============================] - 1s 8ms/step - loss: 0.5551 - recall: 0.7034 - val_loss: 0.5873 - val_recall: 0.8122\n",
            "Epoch 12/200\n",
            "64/64 [==============================] - 1s 12ms/step - loss: 0.5487 - recall: 0.7246 - val_loss: 0.5359 - val_recall: 0.7624\n",
            "Epoch 13/200\n",
            "64/64 [==============================] - 1s 10ms/step - loss: 0.5403 - recall: 0.7258 - val_loss: 0.5920 - val_recall: 0.8177\n",
            "Epoch 14/200\n",
            "64/64 [==============================] - 1s 8ms/step - loss: 0.5349 - recall: 0.7349 - val_loss: 0.4888 - val_recall: 0.7569\n",
            "Epoch 15/200\n",
            "64/64 [==============================] - 0s 6ms/step - loss: 0.5270 - recall: 0.7349 - val_loss: 0.4961 - val_recall: 0.7569\n",
            "Epoch 16/200\n",
            "64/64 [==============================] - 0s 4ms/step - loss: 0.5221 - recall: 0.7391 - val_loss: 0.4877 - val_recall: 0.7680\n",
            "Epoch 17/200\n",
            "64/64 [==============================] - 0s 4ms/step - loss: 0.5139 - recall: 0.7433 - val_loss: 0.4392 - val_recall: 0.7238\n",
            "Epoch 18/200\n",
            "64/64 [==============================] - 0s 4ms/step - loss: 0.5077 - recall: 0.7512 - val_loss: 0.4863 - val_recall: 0.8011\n",
            "Epoch 19/200\n",
            "64/64 [==============================] - 0s 3ms/step - loss: 0.5033 - recall: 0.7476 - val_loss: 0.5120 - val_recall: 0.8232\n",
            "Epoch 20/200\n",
            "64/64 [==============================] - 0s 3ms/step - loss: 0.4994 - recall: 0.7542 - val_loss: 0.4754 - val_recall: 0.7956\n",
            "Epoch 21/200\n",
            "64/64 [==============================] - 0s 7ms/step - loss: 0.4940 - recall: 0.7530 - val_loss: 0.4816 - val_recall: 0.8232\n",
            "Epoch 22/200\n",
            "64/64 [==============================] - 1s 14ms/step - loss: 0.4922 - recall: 0.7512 - val_loss: 0.4616 - val_recall: 0.7956\n",
            "Epoch 23/200\n",
            "64/64 [==============================] - 0s 6ms/step - loss: 0.4899 - recall: 0.7518 - val_loss: 0.4426 - val_recall: 0.7901\n",
            "Epoch 24/200\n",
            "64/64 [==============================] - 1s 9ms/step - loss: 0.4893 - recall: 0.7488 - val_loss: 0.4666 - val_recall: 0.8011\n",
            "Epoch 25/200\n",
            "64/64 [==============================] - 0s 6ms/step - loss: 0.4835 - recall: 0.7676 - val_loss: 0.4538 - val_recall: 0.7845\n",
            "Epoch 26/200\n",
            "64/64 [==============================] - 0s 5ms/step - loss: 0.4832 - recall: 0.7554 - val_loss: 0.4557 - val_recall: 0.8122\n",
            "Epoch 27/200\n",
            "64/64 [==============================] - 0s 7ms/step - loss: 0.4817 - recall: 0.7567 - val_loss: 0.5218 - val_recall: 0.8785\n",
            "Epoch 28/200\n",
            "64/64 [==============================] - 0s 6ms/step - loss: 0.4869 - recall: 0.7621 - val_loss: 0.4882 - val_recall: 0.8343\n",
            "Epoch 29/200\n",
            "64/64 [==============================] - 0s 8ms/step - loss: 0.4790 - recall: 0.7627 - val_loss: 0.4924 - val_recall: 0.8508\n",
            "Epoch 30/200\n",
            "64/64 [==============================] - 1s 8ms/step - loss: 0.4772 - recall: 0.7682 - val_loss: 0.4983 - val_recall: 0.8674\n",
            "Epoch 31/200\n",
            "64/64 [==============================] - 0s 4ms/step - loss: 0.4770 - recall: 0.7676 - val_loss: 0.4433 - val_recall: 0.8066\n",
            "Epoch 32/200\n",
            "64/64 [==============================] - 0s 5ms/step - loss: 0.4750 - recall: 0.7512 - val_loss: 0.4380 - val_recall: 0.8177\n",
            "Epoch 33/200\n",
            "64/64 [==============================] - 0s 5ms/step - loss: 0.4726 - recall: 0.7688 - val_loss: 0.4087 - val_recall: 0.7790\n",
            "Epoch 34/200\n",
            "64/64 [==============================] - 0s 6ms/step - loss: 0.4719 - recall: 0.7603 - val_loss: 0.4269 - val_recall: 0.7956\n",
            "Epoch 35/200\n",
            "64/64 [==============================] - 0s 5ms/step - loss: 0.4730 - recall: 0.7748 - val_loss: 0.4244 - val_recall: 0.8232\n",
            "Epoch 36/200\n",
            "64/64 [==============================] - 0s 4ms/step - loss: 0.4709 - recall: 0.7688 - val_loss: 0.4176 - val_recall: 0.8177\n",
            "Epoch 37/200\n",
            "64/64 [==============================] - 0s 3ms/step - loss: 0.4718 - recall: 0.7591 - val_loss: 0.4320 - val_recall: 0.8287\n",
            "Epoch 38/200\n",
            "64/64 [==============================] - 0s 3ms/step - loss: 0.4696 - recall: 0.7736 - val_loss: 0.4467 - val_recall: 0.8343\n",
            "Epoch 39/200\n",
            "64/64 [==============================] - 0s 3ms/step - loss: 0.4672 - recall: 0.7694 - val_loss: 0.4113 - val_recall: 0.7956\n",
            "Epoch 40/200\n",
            "64/64 [==============================] - 0s 3ms/step - loss: 0.4664 - recall: 0.7778 - val_loss: 0.4097 - val_recall: 0.8122\n",
            "Epoch 41/200\n",
            "64/64 [==============================] - 0s 3ms/step - loss: 0.4657 - recall: 0.7772 - val_loss: 0.4244 - val_recall: 0.8066\n",
            "Epoch 42/200\n",
            "64/64 [==============================] - 0s 3ms/step - loss: 0.4677 - recall: 0.7791 - val_loss: 0.3693 - val_recall: 0.7514\n",
            "Epoch 43/200\n",
            "64/64 [==============================] - 0s 4ms/step - loss: 0.4639 - recall: 0.7615 - val_loss: 0.4210 - val_recall: 0.8287\n",
            "Epoch 44/200\n",
            "64/64 [==============================] - 0s 4ms/step - loss: 0.4645 - recall: 0.7694 - val_loss: 0.4020 - val_recall: 0.7956\n",
            "Epoch 45/200\n",
            "64/64 [==============================] - 0s 5ms/step - loss: 0.4626 - recall: 0.7772 - val_loss: 0.4220 - val_recall: 0.8122\n",
            "Epoch 46/200\n",
            "64/64 [==============================] - 0s 5ms/step - loss: 0.4613 - recall: 0.7627 - val_loss: 0.4236 - val_recall: 0.8122\n",
            "Epoch 47/200\n",
            "64/64 [==============================] - 0s 7ms/step - loss: 0.4609 - recall: 0.7712 - val_loss: 0.4331 - val_recall: 0.8343\n",
            "Epoch 48/200\n",
            "64/64 [==============================] - 1s 8ms/step - loss: 0.4626 - recall: 0.7730 - val_loss: 0.4156 - val_recall: 0.8232\n",
            "Epoch 49/200\n",
            "64/64 [==============================] - 1s 10ms/step - loss: 0.4598 - recall: 0.7688 - val_loss: 0.3756 - val_recall: 0.7624\n",
            "Epoch 50/200\n",
            "64/64 [==============================] - 1s 9ms/step - loss: 0.4595 - recall: 0.7748 - val_loss: 0.4380 - val_recall: 0.8232\n",
            "Epoch 51/200\n",
            "64/64 [==============================] - 1s 12ms/step - loss: 0.4589 - recall: 0.7778 - val_loss: 0.3905 - val_recall: 0.8011\n",
            "Epoch 52/200\n",
            "64/64 [==============================] - 1s 13ms/step - loss: 0.4583 - recall: 0.7700 - val_loss: 0.4813 - val_recall: 0.8564\n",
            "Epoch 53/200\n",
            "64/64 [==============================] - 2s 25ms/step - loss: 0.4584 - recall: 0.7651 - val_loss: 0.3718 - val_recall: 0.7845\n",
            "Epoch 54/200\n",
            "64/64 [==============================] - 1s 15ms/step - loss: 0.4574 - recall: 0.7778 - val_loss: 0.4196 - val_recall: 0.8232\n",
            "Epoch 55/200\n",
            "64/64 [==============================] - 1s 18ms/step - loss: 0.4574 - recall: 0.7772 - val_loss: 0.4038 - val_recall: 0.8011\n",
            "Epoch 56/200\n",
            "64/64 [==============================] - 0s 8ms/step - loss: 0.4555 - recall: 0.7791 - val_loss: 0.4093 - val_recall: 0.8232\n",
            "Epoch 57/200\n",
            "64/64 [==============================] - 1s 9ms/step - loss: 0.4569 - recall: 0.7694 - val_loss: 0.4276 - val_recall: 0.8287\n",
            "Epoch 58/200\n",
            "64/64 [==============================] - 0s 7ms/step - loss: 0.4550 - recall: 0.7724 - val_loss: 0.3986 - val_recall: 0.8066\n",
            "Epoch 59/200\n",
            "64/64 [==============================] - 0s 6ms/step - loss: 0.4569 - recall: 0.7718 - val_loss: 0.4391 - val_recall: 0.8343\n",
            "Epoch 60/200\n",
            "64/64 [==============================] - 0s 3ms/step - loss: 0.4552 - recall: 0.7676 - val_loss: 0.4251 - val_recall: 0.8343\n",
            "Epoch 61/200\n",
            "64/64 [==============================] - 0s 4ms/step - loss: 0.4554 - recall: 0.7754 - val_loss: 0.4349 - val_recall: 0.8398\n",
            "Epoch 62/200\n",
            "64/64 [==============================] - 0s 3ms/step - loss: 0.4534 - recall: 0.7803 - val_loss: 0.4465 - val_recall: 0.8453\n",
            "Epoch 63/200\n",
            "64/64 [==============================] - 0s 5ms/step - loss: 0.4530 - recall: 0.7718 - val_loss: 0.4312 - val_recall: 0.8287\n",
            "Epoch 64/200\n",
            "64/64 [==============================] - 1s 12ms/step - loss: 0.4548 - recall: 0.7688 - val_loss: 0.4567 - val_recall: 0.8508\n",
            "Epoch 65/200\n",
            "64/64 [==============================] - 1s 9ms/step - loss: 0.4524 - recall: 0.7724 - val_loss: 0.3860 - val_recall: 0.7790\n",
            "Epoch 66/200\n",
            "64/64 [==============================] - 1s 10ms/step - loss: 0.4535 - recall: 0.7724 - val_loss: 0.4689 - val_recall: 0.8508\n",
            "Epoch 67/200\n",
            "64/64 [==============================] - 1s 13ms/step - loss: 0.4533 - recall: 0.7760 - val_loss: 0.3727 - val_recall: 0.7735\n",
            "Epoch 68/200\n",
            "64/64 [==============================] - 1s 9ms/step - loss: 0.4521 - recall: 0.7748 - val_loss: 0.4176 - val_recall: 0.8232\n",
            "Epoch 69/200\n",
            "64/64 [==============================] - 1s 10ms/step - loss: 0.4536 - recall: 0.7651 - val_loss: 0.4662 - val_recall: 0.8453\n",
            "Epoch 70/200\n",
            "64/64 [==============================] - 1s 9ms/step - loss: 0.4509 - recall: 0.7827 - val_loss: 0.4032 - val_recall: 0.8011\n",
            "Epoch 71/200\n",
            "64/64 [==============================] - 1s 8ms/step - loss: 0.4528 - recall: 0.7748 - val_loss: 0.4052 - val_recall: 0.8066\n",
            "Epoch 72/200\n",
            "64/64 [==============================] - 0s 6ms/step - loss: 0.4503 - recall: 0.7712 - val_loss: 0.4204 - val_recall: 0.8066\n",
            "Epoch 73/200\n",
            "64/64 [==============================] - 0s 7ms/step - loss: 0.4509 - recall: 0.7772 - val_loss: 0.3877 - val_recall: 0.8011\n",
            "Epoch 74/200\n",
            "64/64 [==============================] - 1s 9ms/step - loss: 0.4498 - recall: 0.7785 - val_loss: 0.4186 - val_recall: 0.8011\n",
            "Epoch 75/200\n",
            "64/64 [==============================] - 1s 10ms/step - loss: 0.4503 - recall: 0.7809 - val_loss: 0.3603 - val_recall: 0.7514\n",
            "Epoch 76/200\n",
            "64/64 [==============================] - 1s 11ms/step - loss: 0.4497 - recall: 0.7742 - val_loss: 0.4045 - val_recall: 0.7956\n",
            "Epoch 77/200\n",
            "64/64 [==============================] - 1s 20ms/step - loss: 0.4502 - recall: 0.7772 - val_loss: 0.4225 - val_recall: 0.8232\n",
            "Epoch 78/200\n",
            "64/64 [==============================] - 1s 11ms/step - loss: 0.4531 - recall: 0.7730 - val_loss: 0.4272 - val_recall: 0.8122\n",
            "Epoch 79/200\n",
            "64/64 [==============================] - 0s 7ms/step - loss: 0.4488 - recall: 0.7863 - val_loss: 0.4284 - val_recall: 0.8122\n",
            "Epoch 80/200\n",
            "64/64 [==============================] - 0s 6ms/step - loss: 0.4491 - recall: 0.7766 - val_loss: 0.4237 - val_recall: 0.8177\n",
            "Epoch 81/200\n",
            "64/64 [==============================] - 0s 4ms/step - loss: 0.4515 - recall: 0.7857 - val_loss: 0.4067 - val_recall: 0.8011\n",
            "Epoch 82/200\n",
            "64/64 [==============================] - 0s 5ms/step - loss: 0.4493 - recall: 0.7718 - val_loss: 0.4066 - val_recall: 0.8066\n",
            "Epoch 83/200\n",
            "64/64 [==============================] - 0s 5ms/step - loss: 0.4477 - recall: 0.7778 - val_loss: 0.3882 - val_recall: 0.7956\n",
            "Epoch 84/200\n",
            "64/64 [==============================] - 0s 5ms/step - loss: 0.4471 - recall: 0.7809 - val_loss: 0.4264 - val_recall: 0.8232\n",
            "Epoch 85/200\n",
            "64/64 [==============================] - 0s 6ms/step - loss: 0.4468 - recall: 0.7803 - val_loss: 0.4038 - val_recall: 0.7956\n",
            "Epoch 86/200\n",
            "64/64 [==============================] - 1s 8ms/step - loss: 0.4472 - recall: 0.7815 - val_loss: 0.4128 - val_recall: 0.8122\n",
            "Epoch 87/200\n",
            "64/64 [==============================] - 0s 4ms/step - loss: 0.4466 - recall: 0.7821 - val_loss: 0.3808 - val_recall: 0.7845\n",
            "Epoch 88/200\n",
            "64/64 [==============================] - 0s 4ms/step - loss: 0.4464 - recall: 0.7857 - val_loss: 0.4154 - val_recall: 0.8066\n",
            "Epoch 89/200\n",
            "64/64 [==============================] - 0s 4ms/step - loss: 0.4465 - recall: 0.7803 - val_loss: 0.4032 - val_recall: 0.8066\n",
            "Epoch 90/200\n",
            "64/64 [==============================] - 0s 5ms/step - loss: 0.4471 - recall: 0.7791 - val_loss: 0.4292 - val_recall: 0.8177\n",
            "Epoch 91/200\n",
            "64/64 [==============================] - 0s 3ms/step - loss: 0.4457 - recall: 0.7803 - val_loss: 0.4283 - val_recall: 0.8066\n",
            "Epoch 92/200\n",
            "64/64 [==============================] - 0s 4ms/step - loss: 0.4463 - recall: 0.7797 - val_loss: 0.4753 - val_recall: 0.8508\n",
            "Epoch 93/200\n",
            "64/64 [==============================] - 0s 4ms/step - loss: 0.4464 - recall: 0.7857 - val_loss: 0.4001 - val_recall: 0.8011\n",
            "Epoch 94/200\n",
            "64/64 [==============================] - 0s 5ms/step - loss: 0.4473 - recall: 0.7833 - val_loss: 0.4024 - val_recall: 0.8011\n",
            "Epoch 95/200\n",
            "64/64 [==============================] - 0s 4ms/step - loss: 0.4470 - recall: 0.7821 - val_loss: 0.4626 - val_recall: 0.8453\n",
            "Epoch 96/200\n",
            "64/64 [==============================] - 0s 4ms/step - loss: 0.4456 - recall: 0.7791 - val_loss: 0.3854 - val_recall: 0.7790\n",
            "Epoch 97/200\n",
            "64/64 [==============================] - 0s 3ms/step - loss: 0.4470 - recall: 0.7791 - val_loss: 0.4110 - val_recall: 0.8066\n",
            "Epoch 98/200\n",
            "64/64 [==============================] - 0s 3ms/step - loss: 0.4472 - recall: 0.7766 - val_loss: 0.3689 - val_recall: 0.7790\n",
            "Epoch 99/200\n",
            "64/64 [==============================] - 0s 4ms/step - loss: 0.4455 - recall: 0.7748 - val_loss: 0.4258 - val_recall: 0.8343\n",
            "Epoch 100/200\n",
            "64/64 [==============================] - 0s 4ms/step - loss: 0.4436 - recall: 0.7815 - val_loss: 0.3983 - val_recall: 0.7956\n",
            "Epoch 101/200\n",
            "64/64 [==============================] - 0s 3ms/step - loss: 0.4434 - recall: 0.7815 - val_loss: 0.3834 - val_recall: 0.7845\n",
            "Epoch 102/200\n",
            "64/64 [==============================] - 0s 4ms/step - loss: 0.4486 - recall: 0.7748 - val_loss: 0.4133 - val_recall: 0.8122\n",
            "Epoch 103/200\n",
            "64/64 [==============================] - 0s 4ms/step - loss: 0.4430 - recall: 0.7803 - val_loss: 0.4183 - val_recall: 0.8011\n",
            "Epoch 104/200\n",
            "64/64 [==============================] - 0s 3ms/step - loss: 0.4422 - recall: 0.7809 - val_loss: 0.4782 - val_recall: 0.8619\n",
            "Epoch 105/200\n",
            "64/64 [==============================] - 0s 3ms/step - loss: 0.4440 - recall: 0.7809 - val_loss: 0.3988 - val_recall: 0.7956\n",
            "Epoch 106/200\n",
            "64/64 [==============================] - 0s 5ms/step - loss: 0.4429 - recall: 0.7845 - val_loss: 0.3800 - val_recall: 0.7845\n",
            "Epoch 107/200\n",
            "64/64 [==============================] - 0s 4ms/step - loss: 0.4443 - recall: 0.7803 - val_loss: 0.4450 - val_recall: 0.8287\n",
            "Epoch 108/200\n",
            "64/64 [==============================] - 0s 3ms/step - loss: 0.4425 - recall: 0.7821 - val_loss: 0.4253 - val_recall: 0.8177\n",
            "Epoch 109/200\n",
            "64/64 [==============================] - 0s 5ms/step - loss: 0.4435 - recall: 0.7791 - val_loss: 0.4114 - val_recall: 0.8122\n",
            "Epoch 110/200\n",
            "64/64 [==============================] - 0s 3ms/step - loss: 0.4418 - recall: 0.7754 - val_loss: 0.4274 - val_recall: 0.8122\n",
            "Epoch 111/200\n",
            "64/64 [==============================] - 0s 3ms/step - loss: 0.4444 - recall: 0.7827 - val_loss: 0.4526 - val_recall: 0.8398\n",
            "Epoch 112/200\n",
            "64/64 [==============================] - 0s 3ms/step - loss: 0.4421 - recall: 0.7803 - val_loss: 0.4310 - val_recall: 0.8066\n",
            "Epoch 113/200\n",
            "64/64 [==============================] - 0s 3ms/step - loss: 0.4411 - recall: 0.7778 - val_loss: 0.4552 - val_recall: 0.8343\n",
            "Epoch 114/200\n",
            "64/64 [==============================] - 0s 3ms/step - loss: 0.4411 - recall: 0.7887 - val_loss: 0.4182 - val_recall: 0.8122\n",
            "Epoch 115/200\n",
            "64/64 [==============================] - 0s 3ms/step - loss: 0.4398 - recall: 0.7875 - val_loss: 0.3915 - val_recall: 0.7901\n",
            "Epoch 116/200\n",
            "64/64 [==============================] - 0s 5ms/step - loss: 0.4410 - recall: 0.7718 - val_loss: 0.4313 - val_recall: 0.8177\n",
            "Epoch 117/200\n",
            "64/64 [==============================] - 0s 4ms/step - loss: 0.4411 - recall: 0.7797 - val_loss: 0.4580 - val_recall: 0.8287\n",
            "Epoch 118/200\n",
            "64/64 [==============================] - 0s 3ms/step - loss: 0.4404 - recall: 0.7797 - val_loss: 0.3978 - val_recall: 0.7845\n",
            "Epoch 119/200\n",
            "64/64 [==============================] - 0s 4ms/step - loss: 0.4420 - recall: 0.7772 - val_loss: 0.4001 - val_recall: 0.7901\n",
            "Epoch 120/200\n",
            "64/64 [==============================] - 0s 5ms/step - loss: 0.4407 - recall: 0.7809 - val_loss: 0.4163 - val_recall: 0.7956\n",
            "Epoch 121/200\n",
            "64/64 [==============================] - 0s 5ms/step - loss: 0.4407 - recall: 0.7809 - val_loss: 0.4281 - val_recall: 0.8287\n",
            "Epoch 122/200\n",
            "64/64 [==============================] - 0s 4ms/step - loss: 0.4423 - recall: 0.7857 - val_loss: 0.3791 - val_recall: 0.7790\n",
            "Epoch 123/200\n",
            "64/64 [==============================] - 0s 4ms/step - loss: 0.4411 - recall: 0.7797 - val_loss: 0.4223 - val_recall: 0.8011\n",
            "Epoch 124/200\n",
            "64/64 [==============================] - 0s 3ms/step - loss: 0.4398 - recall: 0.7778 - val_loss: 0.3871 - val_recall: 0.7901\n",
            "Epoch 125/200\n",
            "64/64 [==============================] - 0s 6ms/step - loss: 0.4402 - recall: 0.7845 - val_loss: 0.3891 - val_recall: 0.7901\n",
            "Epoch 126/200\n",
            "64/64 [==============================] - 0s 4ms/step - loss: 0.4390 - recall: 0.7760 - val_loss: 0.4257 - val_recall: 0.8122\n",
            "Epoch 127/200\n",
            "64/64 [==============================] - 0s 4ms/step - loss: 0.4391 - recall: 0.7845 - val_loss: 0.4133 - val_recall: 0.8066\n",
            "Epoch 128/200\n",
            "64/64 [==============================] - 0s 5ms/step - loss: 0.4396 - recall: 0.7839 - val_loss: 0.4006 - val_recall: 0.8011\n",
            "Epoch 129/200\n",
            "64/64 [==============================] - 0s 3ms/step - loss: 0.4395 - recall: 0.7791 - val_loss: 0.4210 - val_recall: 0.8122\n",
            "Epoch 130/200\n",
            "64/64 [==============================] - 0s 4ms/step - loss: 0.4399 - recall: 0.7754 - val_loss: 0.4295 - val_recall: 0.8122\n",
            "Epoch 131/200\n",
            "64/64 [==============================] - 1s 8ms/step - loss: 0.4384 - recall: 0.7827 - val_loss: 0.4320 - val_recall: 0.8232\n",
            "Epoch 132/200\n",
            "64/64 [==============================] - 0s 4ms/step - loss: 0.4388 - recall: 0.7839 - val_loss: 0.3932 - val_recall: 0.7735\n",
            "Epoch 133/200\n",
            "64/64 [==============================] - 0s 5ms/step - loss: 0.4373 - recall: 0.7845 - val_loss: 0.3770 - val_recall: 0.7845\n",
            "Epoch 134/200\n",
            "64/64 [==============================] - 0s 4ms/step - loss: 0.4388 - recall: 0.7778 - val_loss: 0.3922 - val_recall: 0.7901\n",
            "Epoch 135/200\n",
            "64/64 [==============================] - 0s 5ms/step - loss: 0.4366 - recall: 0.7797 - val_loss: 0.4420 - val_recall: 0.8177\n",
            "Epoch 136/200\n",
            "64/64 [==============================] - 0s 4ms/step - loss: 0.4394 - recall: 0.7857 - val_loss: 0.3713 - val_recall: 0.7680\n",
            "Epoch 137/200\n",
            "64/64 [==============================] - 0s 3ms/step - loss: 0.4393 - recall: 0.7845 - val_loss: 0.4030 - val_recall: 0.8011\n",
            "Epoch 138/200\n",
            "64/64 [==============================] - 0s 4ms/step - loss: 0.4370 - recall: 0.7875 - val_loss: 0.3669 - val_recall: 0.7514\n",
            "Epoch 139/200\n",
            "64/64 [==============================] - 0s 4ms/step - loss: 0.4372 - recall: 0.7718 - val_loss: 0.4203 - val_recall: 0.8122\n",
            "Epoch 140/200\n",
            "64/64 [==============================] - 0s 4ms/step - loss: 0.4384 - recall: 0.7760 - val_loss: 0.4048 - val_recall: 0.7956\n",
            "Epoch 141/200\n",
            "64/64 [==============================] - 0s 3ms/step - loss: 0.4352 - recall: 0.7875 - val_loss: 0.3445 - val_recall: 0.7127\n",
            "Epoch 142/200\n",
            "64/64 [==============================] - 0s 3ms/step - loss: 0.4387 - recall: 0.7778 - val_loss: 0.3919 - val_recall: 0.7956\n",
            "Epoch 143/200\n",
            "64/64 [==============================] - 0s 6ms/step - loss: 0.4364 - recall: 0.7857 - val_loss: 0.4067 - val_recall: 0.8011\n",
            "Epoch 144/200\n",
            "64/64 [==============================] - 0s 8ms/step - loss: 0.4368 - recall: 0.7791 - val_loss: 0.4240 - val_recall: 0.8232\n",
            "Epoch 145/200\n",
            "64/64 [==============================] - 0s 7ms/step - loss: 0.4376 - recall: 0.7863 - val_loss: 0.3927 - val_recall: 0.8011\n",
            "Epoch 146/200\n",
            "64/64 [==============================] - 0s 4ms/step - loss: 0.4377 - recall: 0.7791 - val_loss: 0.3708 - val_recall: 0.7624\n",
            "Epoch 147/200\n",
            "64/64 [==============================] - 0s 3ms/step - loss: 0.4352 - recall: 0.7797 - val_loss: 0.3780 - val_recall: 0.7790\n",
            "Epoch 148/200\n",
            "64/64 [==============================] - 0s 4ms/step - loss: 0.4367 - recall: 0.7785 - val_loss: 0.4233 - val_recall: 0.8232\n",
            "Epoch 149/200\n",
            "64/64 [==============================] - 0s 5ms/step - loss: 0.4380 - recall: 0.7742 - val_loss: 0.4265 - val_recall: 0.8177\n",
            "Epoch 150/200\n",
            "64/64 [==============================] - 0s 6ms/step - loss: 0.4378 - recall: 0.7851 - val_loss: 0.3892 - val_recall: 0.8011\n",
            "Epoch 151/200\n",
            "64/64 [==============================] - 1s 8ms/step - loss: 0.4365 - recall: 0.7718 - val_loss: 0.4419 - val_recall: 0.8232\n",
            "Epoch 152/200\n",
            "64/64 [==============================] - 1s 9ms/step - loss: 0.4350 - recall: 0.7857 - val_loss: 0.4040 - val_recall: 0.8066\n",
            "Epoch 153/200\n",
            "64/64 [==============================] - 1s 10ms/step - loss: 0.4352 - recall: 0.7809 - val_loss: 0.3980 - val_recall: 0.7845\n",
            "Epoch 154/200\n",
            "64/64 [==============================] - 0s 5ms/step - loss: 0.4358 - recall: 0.7748 - val_loss: 0.4113 - val_recall: 0.8177\n",
            "Epoch 155/200\n",
            "64/64 [==============================] - 0s 8ms/step - loss: 0.4364 - recall: 0.7839 - val_loss: 0.3900 - val_recall: 0.7956\n",
            "Epoch 156/200\n",
            "64/64 [==============================] - 0s 4ms/step - loss: 0.4366 - recall: 0.7718 - val_loss: 0.4086 - val_recall: 0.8066\n",
            "Epoch 157/200\n",
            "64/64 [==============================] - 0s 5ms/step - loss: 0.4351 - recall: 0.7821 - val_loss: 0.3822 - val_recall: 0.7790\n",
            "Epoch 158/200\n",
            "64/64 [==============================] - 1s 13ms/step - loss: 0.4330 - recall: 0.7839 - val_loss: 0.3717 - val_recall: 0.7459\n",
            "Epoch 159/200\n",
            "64/64 [==============================] - 2s 33ms/step - loss: 0.4357 - recall: 0.7797 - val_loss: 0.3943 - val_recall: 0.8066\n",
            "Epoch 160/200\n",
            "64/64 [==============================] - 1s 21ms/step - loss: 0.4347 - recall: 0.7803 - val_loss: 0.3974 - val_recall: 0.8011\n",
            "Epoch 161/200\n",
            "64/64 [==============================] - 1s 17ms/step - loss: 0.4339 - recall: 0.7809 - val_loss: 0.4182 - val_recall: 0.8232\n",
            "Epoch 162/200\n",
            "64/64 [==============================] - 1s 13ms/step - loss: 0.4331 - recall: 0.7845 - val_loss: 0.4179 - val_recall: 0.8177\n",
            "Epoch 163/200\n",
            "64/64 [==============================] - 1s 17ms/step - loss: 0.4336 - recall: 0.7809 - val_loss: 0.3740 - val_recall: 0.7790\n",
            "Epoch 164/200\n",
            "64/64 [==============================] - 2s 29ms/step - loss: 0.4325 - recall: 0.7736 - val_loss: 0.4363 - val_recall: 0.8232\n",
            "Epoch 165/200\n",
            "64/64 [==============================] - 2s 38ms/step - loss: 0.4340 - recall: 0.7857 - val_loss: 0.4424 - val_recall: 0.8232\n",
            "Epoch 166/200\n",
            "64/64 [==============================] - 3s 52ms/step - loss: 0.4323 - recall: 0.7875 - val_loss: 0.4008 - val_recall: 0.7735\n",
            "Epoch 167/200\n",
            "64/64 [==============================] - 1s 22ms/step - loss: 0.4346 - recall: 0.7760 - val_loss: 0.4260 - val_recall: 0.8177\n",
            "Epoch 168/200\n",
            "64/64 [==============================] - 2s 26ms/step - loss: 0.4325 - recall: 0.7809 - val_loss: 0.4051 - val_recall: 0.8122\n",
            "Epoch 169/200\n",
            "64/64 [==============================] - 1s 13ms/step - loss: 0.4318 - recall: 0.7869 - val_loss: 0.4241 - val_recall: 0.8122\n",
            "Epoch 170/200\n",
            "64/64 [==============================] - 1s 17ms/step - loss: 0.4348 - recall: 0.7839 - val_loss: 0.4097 - val_recall: 0.8122\n",
            "Epoch 171/200\n",
            "64/64 [==============================] - 1s 16ms/step - loss: 0.4374 - recall: 0.7833 - val_loss: 0.3797 - val_recall: 0.7569\n",
            "Epoch 172/200\n",
            "64/64 [==============================] - 1s 11ms/step - loss: 0.4332 - recall: 0.7887 - val_loss: 0.3936 - val_recall: 0.8011\n",
            "Epoch 173/200\n",
            "64/64 [==============================] - 1s 13ms/step - loss: 0.4347 - recall: 0.7772 - val_loss: 0.4014 - val_recall: 0.7901\n",
            "Epoch 174/200\n",
            "64/64 [==============================] - 1s 14ms/step - loss: 0.4316 - recall: 0.7875 - val_loss: 0.3845 - val_recall: 0.7845\n",
            "Epoch 175/200\n",
            "64/64 [==============================] - 1s 20ms/step - loss: 0.4314 - recall: 0.7839 - val_loss: 0.3829 - val_recall: 0.7680\n",
            "Epoch 176/200\n",
            "64/64 [==============================] - 2s 29ms/step - loss: 0.4316 - recall: 0.7833 - val_loss: 0.3934 - val_recall: 0.7790\n",
            "Epoch 177/200\n",
            "64/64 [==============================] - 1s 21ms/step - loss: 0.4316 - recall: 0.7766 - val_loss: 0.4482 - val_recall: 0.8287\n",
            "Epoch 178/200\n",
            "64/64 [==============================] - 1s 15ms/step - loss: 0.4327 - recall: 0.7754 - val_loss: 0.4616 - val_recall: 0.8177\n",
            "Epoch 179/200\n",
            "64/64 [==============================] - 1s 16ms/step - loss: 0.4325 - recall: 0.7778 - val_loss: 0.3957 - val_recall: 0.7735\n",
            "Epoch 180/200\n",
            "64/64 [==============================] - 1s 14ms/step - loss: 0.4314 - recall: 0.7791 - val_loss: 0.4318 - val_recall: 0.8122\n",
            "Epoch 181/200\n",
            "64/64 [==============================] - 1s 15ms/step - loss: 0.4309 - recall: 0.7839 - val_loss: 0.4244 - val_recall: 0.8122\n",
            "Epoch 182/200\n",
            "64/64 [==============================] - 1s 17ms/step - loss: 0.4333 - recall: 0.7863 - val_loss: 0.3888 - val_recall: 0.7735\n",
            "Epoch 183/200\n",
            "64/64 [==============================] - 1s 18ms/step - loss: 0.4309 - recall: 0.7797 - val_loss: 0.3974 - val_recall: 0.7956\n",
            "Epoch 184/200\n",
            "64/64 [==============================] - 1s 12ms/step - loss: 0.4308 - recall: 0.7797 - val_loss: 0.4251 - val_recall: 0.8122\n",
            "Epoch 185/200\n",
            "64/64 [==============================] - 1s 16ms/step - loss: 0.4310 - recall: 0.7887 - val_loss: 0.3810 - val_recall: 0.7569\n",
            "Epoch 186/200\n",
            "64/64 [==============================] - 2s 29ms/step - loss: 0.4320 - recall: 0.7772 - val_loss: 0.3860 - val_recall: 0.7624\n",
            "Epoch 187/200\n",
            "64/64 [==============================] - 1s 14ms/step - loss: 0.4310 - recall: 0.7797 - val_loss: 0.4435 - val_recall: 0.8177\n",
            "Epoch 188/200\n",
            "64/64 [==============================] - 1s 11ms/step - loss: 0.4302 - recall: 0.7797 - val_loss: 0.3874 - val_recall: 0.7735\n",
            "Epoch 189/200\n",
            "64/64 [==============================] - 1s 16ms/step - loss: 0.4308 - recall: 0.7821 - val_loss: 0.4191 - val_recall: 0.8122\n",
            "Epoch 190/200\n",
            "64/64 [==============================] - 1s 8ms/step - loss: 0.4299 - recall: 0.7887 - val_loss: 0.4219 - val_recall: 0.8122\n",
            "Epoch 191/200\n",
            "64/64 [==============================] - 1s 17ms/step - loss: 0.4299 - recall: 0.7875 - val_loss: 0.3936 - val_recall: 0.7901\n",
            "Epoch 192/200\n",
            "64/64 [==============================] - 1s 10ms/step - loss: 0.4288 - recall: 0.7803 - val_loss: 0.3955 - val_recall: 0.7845\n",
            "Epoch 193/200\n",
            "64/64 [==============================] - 0s 7ms/step - loss: 0.4311 - recall: 0.7912 - val_loss: 0.3791 - val_recall: 0.7735\n",
            "Epoch 194/200\n",
            "64/64 [==============================] - 1s 9ms/step - loss: 0.4292 - recall: 0.7900 - val_loss: 0.4416 - val_recall: 0.8177\n",
            "Epoch 195/200\n",
            "64/64 [==============================] - 0s 7ms/step - loss: 0.4302 - recall: 0.7966 - val_loss: 0.3854 - val_recall: 0.7569\n",
            "Epoch 196/200\n",
            "64/64 [==============================] - 0s 7ms/step - loss: 0.4286 - recall: 0.7851 - val_loss: 0.4031 - val_recall: 0.7901\n",
            "Epoch 197/200\n",
            "64/64 [==============================] - 1s 10ms/step - loss: 0.4296 - recall: 0.7803 - val_loss: 0.4309 - val_recall: 0.8177\n",
            "Epoch 198/200\n",
            "64/64 [==============================] - 1s 11ms/step - loss: 0.4285 - recall: 0.7948 - val_loss: 0.4239 - val_recall: 0.8122\n",
            "Epoch 199/200\n",
            "64/64 [==============================] - 1s 10ms/step - loss: 0.4291 - recall: 0.7845 - val_loss: 0.4009 - val_recall: 0.7956\n",
            "Epoch 200/200\n",
            "64/64 [==============================] - 0s 7ms/step - loss: 0.4281 - recall: 0.7912 - val_loss: 0.3952 - val_recall: 0.7956\n"
          ]
        },
        {
          "output_type": "execute_result",
          "data": {
            "text/plain": [
              "<keras.callbacks.History at 0x7fd00fdf7250>"
            ]
          },
          "metadata": {},
          "execution_count": 44
        }
      ]
    },
    {
      "cell_type": "markdown",
      "metadata": {
        "id": "73DcYyoLOSMD"
      },
      "source": [
        "### Evaluate The Model\n",
        "\n",
        "- Plot the model history to observe the changing of metrics\n",
        "- Make prediction to see \"confusion matrix\" and \"classification report\"\n",
        "- Check ROC (Receiver Operating Curve) and AUC (Area Under Curve) for the model"
      ]
    },
    {
      "cell_type": "code",
      "execution_count": 45,
      "metadata": {
        "id": "LNQVH9CROSMD",
        "colab": {
          "base_uri": "https://localhost:8080/"
        },
        "outputId": "6fc64df6-84b8-46a4-a7a9-06f25aa8e054"
      },
      "outputs": [
        {
          "output_type": "stream",
          "name": "stdout",
          "text": [
            "[[637 159]\n",
            " [ 54 150]]\n",
            "              precision    recall  f1-score   support\n",
            "\n",
            "           0       0.92      0.80      0.86       796\n",
            "           1       0.49      0.74      0.58       204\n",
            "\n",
            "    accuracy                           0.79      1000\n",
            "   macro avg       0.70      0.77      0.72      1000\n",
            "weighted avg       0.83      0.79      0.80      1000\n",
            "\n"
          ]
        }
      ],
      "source": [
        "y_pred = model.predict(X_test) > 0.5\n",
        "print(confusion_matrix(y_test, y_pred))\n",
        "print(classification_report(y_test, y_pred))"
      ]
    },
    {
      "cell_type": "markdown",
      "metadata": {
        "id": "zUO_gF1oOSMD"
      },
      "source": [
        "## Implementation Different Methods to Develop The Model\n",
        "\n",
        "- Implement the following methods on model creating with \"class_weight\" parameter\n",
        "- Create and evaluate model for each method "
      ]
    },
    {
      "cell_type": "markdown",
      "metadata": {
        "id": "zJifyr7BOSME"
      },
      "source": [
        "### Increase The Learning Rate and Observe The Results"
      ]
    },
    {
      "cell_type": "code",
      "execution_count": 47,
      "metadata": {
        "id": "CDs0B8kmOSME"
      },
      "outputs": [],
      "source": [
        "tf.random.set_seed(seed)\n",
        "\n",
        "model = Sequential()\n",
        "\n",
        "model.add(Dense(24, activation = \"relu\", input_dim = X_train.shape[1]))\n",
        "model.add(Dense(12, activation = \"relu\"))\n",
        "model.add(Dense(6, activation = \"relu\"))\n",
        "model.add(Dense(1, activation = \"sigmoid\"))\n",
        "\n",
        "opt = Adam(lr = 0.005)\n",
        "model.compile(optimizer = opt, loss = \"binary_crossentropy\", metrics = [\"accuracy\"])"
      ]
    },
    {
      "cell_type": "code",
      "source": [
        "model.fit(x = X_train, y = y_train, validation_split = 0.1, batch_size = 32, epochs = 100, verbose = 1)"
      ],
      "metadata": {
        "colab": {
          "base_uri": "https://localhost:8080/"
        },
        "id": "hnx8W1KmAtbi",
        "outputId": "57314ea1-13bc-4962-9b0b-cb1840b3f03d"
      },
      "execution_count": 50,
      "outputs": [
        {
          "output_type": "stream",
          "name": "stdout",
          "text": [
            "Epoch 1/100\n",
            "254/254 [==============================] - 2s 8ms/step - loss: 0.3386 - accuracy: 0.8610 - val_loss: 0.2964 - val_accuracy: 0.8867\n",
            "Epoch 2/100\n",
            "254/254 [==============================] - 2s 7ms/step - loss: 0.3341 - accuracy: 0.8641 - val_loss: 0.3049 - val_accuracy: 0.8856\n",
            "Epoch 3/100\n",
            "254/254 [==============================] - 2s 7ms/step - loss: 0.3360 - accuracy: 0.8619 - val_loss: 0.2954 - val_accuracy: 0.8844\n",
            "Epoch 4/100\n",
            "254/254 [==============================] - 1s 5ms/step - loss: 0.3364 - accuracy: 0.8593 - val_loss: 0.2932 - val_accuracy: 0.8856\n",
            "Epoch 5/100\n",
            "254/254 [==============================] - 2s 6ms/step - loss: 0.3363 - accuracy: 0.8586 - val_loss: 0.3063 - val_accuracy: 0.8822\n",
            "Epoch 6/100\n",
            "254/254 [==============================] - 1s 5ms/step - loss: 0.3361 - accuracy: 0.8619 - val_loss: 0.2950 - val_accuracy: 0.8900\n",
            "Epoch 7/100\n",
            "254/254 [==============================] - 1s 5ms/step - loss: 0.3343 - accuracy: 0.8622 - val_loss: 0.2938 - val_accuracy: 0.8822\n",
            "Epoch 8/100\n",
            "254/254 [==============================] - 1s 6ms/step - loss: 0.3363 - accuracy: 0.8620 - val_loss: 0.3143 - val_accuracy: 0.8811\n",
            "Epoch 9/100\n",
            "254/254 [==============================] - 1s 4ms/step - loss: 0.3353 - accuracy: 0.8630 - val_loss: 0.2986 - val_accuracy: 0.8767\n",
            "Epoch 10/100\n",
            "254/254 [==============================] - 1s 3ms/step - loss: 0.3336 - accuracy: 0.8616 - val_loss: 0.2967 - val_accuracy: 0.8867\n",
            "Epoch 11/100\n",
            "254/254 [==============================] - 1s 3ms/step - loss: 0.3327 - accuracy: 0.8619 - val_loss: 0.2981 - val_accuracy: 0.8900\n",
            "Epoch 12/100\n",
            "254/254 [==============================] - 1s 3ms/step - loss: 0.3326 - accuracy: 0.8644 - val_loss: 0.2992 - val_accuracy: 0.8911\n",
            "Epoch 13/100\n",
            "254/254 [==============================] - 1s 2ms/step - loss: 0.3333 - accuracy: 0.8626 - val_loss: 0.3082 - val_accuracy: 0.8889\n",
            "Epoch 14/100\n",
            "254/254 [==============================] - 1s 2ms/step - loss: 0.3318 - accuracy: 0.8647 - val_loss: 0.3239 - val_accuracy: 0.8911\n",
            "Epoch 15/100\n",
            "254/254 [==============================] - 1s 4ms/step - loss: 0.3339 - accuracy: 0.8626 - val_loss: 0.2992 - val_accuracy: 0.8878\n",
            "Epoch 16/100\n",
            "254/254 [==============================] - 1s 3ms/step - loss: 0.3311 - accuracy: 0.8581 - val_loss: 0.2946 - val_accuracy: 0.8889\n",
            "Epoch 17/100\n",
            "254/254 [==============================] - 1s 2ms/step - loss: 0.3296 - accuracy: 0.8627 - val_loss: 0.2959 - val_accuracy: 0.8822\n",
            "Epoch 18/100\n",
            "254/254 [==============================] - 1s 2ms/step - loss: 0.3304 - accuracy: 0.8635 - val_loss: 0.2915 - val_accuracy: 0.8933\n",
            "Epoch 19/100\n",
            "254/254 [==============================] - 1s 2ms/step - loss: 0.3315 - accuracy: 0.8615 - val_loss: 0.3014 - val_accuracy: 0.8822\n",
            "Epoch 20/100\n",
            "254/254 [==============================] - 1s 3ms/step - loss: 0.3279 - accuracy: 0.8622 - val_loss: 0.3017 - val_accuracy: 0.8800\n",
            "Epoch 21/100\n",
            "254/254 [==============================] - 1s 6ms/step - loss: 0.3292 - accuracy: 0.8627 - val_loss: 0.2945 - val_accuracy: 0.8900\n",
            "Epoch 22/100\n",
            "254/254 [==============================] - 2s 7ms/step - loss: 0.3301 - accuracy: 0.8621 - val_loss: 0.2994 - val_accuracy: 0.8967\n",
            "Epoch 23/100\n",
            "254/254 [==============================] - 2s 8ms/step - loss: 0.3299 - accuracy: 0.8626 - val_loss: 0.2944 - val_accuracy: 0.8900\n",
            "Epoch 24/100\n",
            "254/254 [==============================] - 1s 5ms/step - loss: 0.3271 - accuracy: 0.8632 - val_loss: 0.3021 - val_accuracy: 0.8944\n",
            "Epoch 25/100\n",
            "254/254 [==============================] - 1s 4ms/step - loss: 0.3271 - accuracy: 0.8622 - val_loss: 0.3002 - val_accuracy: 0.8856\n",
            "Epoch 26/100\n",
            "254/254 [==============================] - 2s 6ms/step - loss: 0.3266 - accuracy: 0.8637 - val_loss: 0.3104 - val_accuracy: 0.8889\n",
            "Epoch 27/100\n",
            "254/254 [==============================] - 2s 7ms/step - loss: 0.3304 - accuracy: 0.8628 - val_loss: 0.3044 - val_accuracy: 0.8833\n",
            "Epoch 28/100\n",
            "254/254 [==============================] - 2s 8ms/step - loss: 0.3262 - accuracy: 0.8637 - val_loss: 0.3011 - val_accuracy: 0.8878\n",
            "Epoch 29/100\n",
            "254/254 [==============================] - 2s 7ms/step - loss: 0.3246 - accuracy: 0.8657 - val_loss: 0.3025 - val_accuracy: 0.8878\n",
            "Epoch 30/100\n",
            "254/254 [==============================] - 2s 6ms/step - loss: 0.3255 - accuracy: 0.8657 - val_loss: 0.3059 - val_accuracy: 0.8833\n",
            "Epoch 31/100\n",
            "254/254 [==============================] - 1s 6ms/step - loss: 0.3248 - accuracy: 0.8658 - val_loss: 0.2993 - val_accuracy: 0.8878\n",
            "Epoch 32/100\n",
            "254/254 [==============================] - 2s 9ms/step - loss: 0.3258 - accuracy: 0.8654 - val_loss: 0.2959 - val_accuracy: 0.8944\n",
            "Epoch 33/100\n",
            "254/254 [==============================] - 1s 6ms/step - loss: 0.3240 - accuracy: 0.8660 - val_loss: 0.2996 - val_accuracy: 0.8878\n",
            "Epoch 34/100\n",
            "254/254 [==============================] - 1s 4ms/step - loss: 0.3244 - accuracy: 0.8651 - val_loss: 0.2982 - val_accuracy: 0.8856\n",
            "Epoch 35/100\n",
            "254/254 [==============================] - 1s 4ms/step - loss: 0.3228 - accuracy: 0.8640 - val_loss: 0.3042 - val_accuracy: 0.8856\n",
            "Epoch 36/100\n",
            "254/254 [==============================] - 1s 4ms/step - loss: 0.3244 - accuracy: 0.8663 - val_loss: 0.3049 - val_accuracy: 0.8744\n",
            "Epoch 37/100\n",
            "254/254 [==============================] - 1s 4ms/step - loss: 0.3219 - accuracy: 0.8644 - val_loss: 0.3034 - val_accuracy: 0.8878\n",
            "Epoch 38/100\n",
            "254/254 [==============================] - 1s 4ms/step - loss: 0.3241 - accuracy: 0.8673 - val_loss: 0.3000 - val_accuracy: 0.8922\n",
            "Epoch 39/100\n",
            "254/254 [==============================] - 1s 4ms/step - loss: 0.3196 - accuracy: 0.8672 - val_loss: 0.3041 - val_accuracy: 0.8856\n",
            "Epoch 40/100\n",
            "254/254 [==============================] - 1s 5ms/step - loss: 0.3213 - accuracy: 0.8678 - val_loss: 0.3065 - val_accuracy: 0.8822\n",
            "Epoch 41/100\n",
            "254/254 [==============================] - 1s 2ms/step - loss: 0.3228 - accuracy: 0.8652 - val_loss: 0.3125 - val_accuracy: 0.8833\n",
            "Epoch 42/100\n",
            "254/254 [==============================] - 1s 3ms/step - loss: 0.3214 - accuracy: 0.8652 - val_loss: 0.3065 - val_accuracy: 0.8844\n",
            "Epoch 43/100\n",
            "254/254 [==============================] - 1s 3ms/step - loss: 0.3218 - accuracy: 0.8673 - val_loss: 0.2976 - val_accuracy: 0.8856\n",
            "Epoch 44/100\n",
            "254/254 [==============================] - 2s 6ms/step - loss: 0.3205 - accuracy: 0.8672 - val_loss: 0.3090 - val_accuracy: 0.8878\n",
            "Epoch 45/100\n",
            "254/254 [==============================] - 1s 4ms/step - loss: 0.3212 - accuracy: 0.8696 - val_loss: 0.2942 - val_accuracy: 0.8967\n",
            "Epoch 46/100\n",
            "254/254 [==============================] - 1s 4ms/step - loss: 0.3211 - accuracy: 0.8657 - val_loss: 0.3188 - val_accuracy: 0.8733\n",
            "Epoch 47/100\n",
            "254/254 [==============================] - 1s 3ms/step - loss: 0.3196 - accuracy: 0.8659 - val_loss: 0.3041 - val_accuracy: 0.8800\n",
            "Epoch 48/100\n",
            "254/254 [==============================] - 1s 3ms/step - loss: 0.3206 - accuracy: 0.8668 - val_loss: 0.3069 - val_accuracy: 0.8789\n",
            "Epoch 49/100\n",
            "254/254 [==============================] - 1s 2ms/step - loss: 0.3196 - accuracy: 0.8665 - val_loss: 0.3027 - val_accuracy: 0.8889\n",
            "Epoch 50/100\n",
            "254/254 [==============================] - 1s 3ms/step - loss: 0.3179 - accuracy: 0.8686 - val_loss: 0.3031 - val_accuracy: 0.8889\n",
            "Epoch 51/100\n",
            "254/254 [==============================] - 1s 3ms/step - loss: 0.3188 - accuracy: 0.8699 - val_loss: 0.3069 - val_accuracy: 0.8789\n",
            "Epoch 52/100\n",
            "254/254 [==============================] - 1s 3ms/step - loss: 0.3192 - accuracy: 0.8677 - val_loss: 0.3031 - val_accuracy: 0.8833\n",
            "Epoch 53/100\n",
            "254/254 [==============================] - 1s 3ms/step - loss: 0.3185 - accuracy: 0.8702 - val_loss: 0.3164 - val_accuracy: 0.8722\n",
            "Epoch 54/100\n",
            "254/254 [==============================] - 1s 3ms/step - loss: 0.3198 - accuracy: 0.8662 - val_loss: 0.3024 - val_accuracy: 0.8867\n",
            "Epoch 55/100\n",
            "254/254 [==============================] - 1s 3ms/step - loss: 0.3183 - accuracy: 0.8681 - val_loss: 0.3015 - val_accuracy: 0.8811\n",
            "Epoch 56/100\n",
            "254/254 [==============================] - 1s 3ms/step - loss: 0.3166 - accuracy: 0.8668 - val_loss: 0.3041 - val_accuracy: 0.8811\n",
            "Epoch 57/100\n",
            "254/254 [==============================] - 1s 3ms/step - loss: 0.3180 - accuracy: 0.8660 - val_loss: 0.3059 - val_accuracy: 0.8822\n",
            "Epoch 58/100\n",
            "254/254 [==============================] - 2s 8ms/step - loss: 0.3170 - accuracy: 0.8674 - val_loss: 0.3080 - val_accuracy: 0.8822\n",
            "Epoch 59/100\n",
            "254/254 [==============================] - 1s 4ms/step - loss: 0.3159 - accuracy: 0.8686 - val_loss: 0.3176 - val_accuracy: 0.8811\n",
            "Epoch 60/100\n",
            "254/254 [==============================] - 1s 3ms/step - loss: 0.3192 - accuracy: 0.8672 - val_loss: 0.3160 - val_accuracy: 0.8811\n",
            "Epoch 61/100\n",
            "254/254 [==============================] - 1s 3ms/step - loss: 0.3142 - accuracy: 0.8665 - val_loss: 0.3117 - val_accuracy: 0.8822\n",
            "Epoch 62/100\n",
            "254/254 [==============================] - 1s 4ms/step - loss: 0.3153 - accuracy: 0.8673 - val_loss: 0.3105 - val_accuracy: 0.8778\n",
            "Epoch 63/100\n",
            "254/254 [==============================] - 1s 5ms/step - loss: 0.3169 - accuracy: 0.8675 - val_loss: 0.3131 - val_accuracy: 0.8878\n",
            "Epoch 64/100\n",
            "254/254 [==============================] - 1s 5ms/step - loss: 0.3166 - accuracy: 0.8688 - val_loss: 0.3041 - val_accuracy: 0.8778\n",
            "Epoch 65/100\n",
            "254/254 [==============================] - 1s 4ms/step - loss: 0.3150 - accuracy: 0.8689 - val_loss: 0.3127 - val_accuracy: 0.8778\n",
            "Epoch 66/100\n",
            "254/254 [==============================] - 1s 6ms/step - loss: 0.3133 - accuracy: 0.8721 - val_loss: 0.3137 - val_accuracy: 0.8911\n",
            "Epoch 67/100\n",
            "254/254 [==============================] - 1s 4ms/step - loss: 0.3177 - accuracy: 0.8690 - val_loss: 0.3073 - val_accuracy: 0.8800\n",
            "Epoch 68/100\n",
            "254/254 [==============================] - 1s 3ms/step - loss: 0.3139 - accuracy: 0.8709 - val_loss: 0.3131 - val_accuracy: 0.8789\n",
            "Epoch 69/100\n",
            "254/254 [==============================] - 1s 5ms/step - loss: 0.3150 - accuracy: 0.8688 - val_loss: 0.3205 - val_accuracy: 0.8789\n",
            "Epoch 70/100\n",
            "254/254 [==============================] - 1s 5ms/step - loss: 0.3150 - accuracy: 0.8709 - val_loss: 0.3095 - val_accuracy: 0.8811\n",
            "Epoch 71/100\n",
            "254/254 [==============================] - 1s 4ms/step - loss: 0.3141 - accuracy: 0.8683 - val_loss: 0.3053 - val_accuracy: 0.8933\n",
            "Epoch 72/100\n",
            "254/254 [==============================] - 1s 4ms/step - loss: 0.3121 - accuracy: 0.8700 - val_loss: 0.3081 - val_accuracy: 0.8822\n",
            "Epoch 73/100\n",
            "254/254 [==============================] - 1s 6ms/step - loss: 0.3124 - accuracy: 0.8721 - val_loss: 0.3121 - val_accuracy: 0.8733\n",
            "Epoch 74/100\n",
            "254/254 [==============================] - 1s 4ms/step - loss: 0.3138 - accuracy: 0.8690 - val_loss: 0.3194 - val_accuracy: 0.8767\n",
            "Epoch 75/100\n",
            "254/254 [==============================] - 1s 3ms/step - loss: 0.3129 - accuracy: 0.8715 - val_loss: 0.3101 - val_accuracy: 0.8778\n",
            "Epoch 76/100\n",
            "254/254 [==============================] - 1s 3ms/step - loss: 0.3151 - accuracy: 0.8721 - val_loss: 0.3093 - val_accuracy: 0.8833\n",
            "Epoch 77/100\n",
            "254/254 [==============================] - 2s 6ms/step - loss: 0.3118 - accuracy: 0.8737 - val_loss: 0.3134 - val_accuracy: 0.8722\n",
            "Epoch 78/100\n",
            "254/254 [==============================] - 1s 5ms/step - loss: 0.3117 - accuracy: 0.8662 - val_loss: 0.3175 - val_accuracy: 0.8711\n",
            "Epoch 79/100\n",
            "254/254 [==============================] - 1s 5ms/step - loss: 0.3126 - accuracy: 0.8715 - val_loss: 0.3126 - val_accuracy: 0.8867\n",
            "Epoch 80/100\n",
            "254/254 [==============================] - 1s 4ms/step - loss: 0.3109 - accuracy: 0.8696 - val_loss: 0.3148 - val_accuracy: 0.8833\n",
            "Epoch 81/100\n",
            "254/254 [==============================] - 1s 4ms/step - loss: 0.3100 - accuracy: 0.8735 - val_loss: 0.3149 - val_accuracy: 0.8800\n",
            "Epoch 82/100\n",
            "254/254 [==============================] - 1s 3ms/step - loss: 0.3100 - accuracy: 0.8717 - val_loss: 0.3132 - val_accuracy: 0.8822\n",
            "Epoch 83/100\n",
            "254/254 [==============================] - 1s 3ms/step - loss: 0.3120 - accuracy: 0.8683 - val_loss: 0.3109 - val_accuracy: 0.8833\n",
            "Epoch 84/100\n",
            "254/254 [==============================] - 1s 3ms/step - loss: 0.3118 - accuracy: 0.8727 - val_loss: 0.3099 - val_accuracy: 0.8789\n",
            "Epoch 85/100\n",
            "254/254 [==============================] - 1s 3ms/step - loss: 0.3084 - accuracy: 0.8735 - val_loss: 0.3131 - val_accuracy: 0.8789\n",
            "Epoch 86/100\n",
            "254/254 [==============================] - 1s 3ms/step - loss: 0.3090 - accuracy: 0.8700 - val_loss: 0.3126 - val_accuracy: 0.8811\n",
            "Epoch 87/100\n",
            "254/254 [==============================] - 2s 7ms/step - loss: 0.3081 - accuracy: 0.8714 - val_loss: 0.3244 - val_accuracy: 0.8767\n",
            "Epoch 88/100\n",
            "254/254 [==============================] - 2s 7ms/step - loss: 0.3108 - accuracy: 0.8690 - val_loss: 0.3206 - val_accuracy: 0.8767\n",
            "Epoch 89/100\n",
            "254/254 [==============================] - 2s 10ms/step - loss: 0.3103 - accuracy: 0.8710 - val_loss: 0.3142 - val_accuracy: 0.8767\n",
            "Epoch 90/100\n",
            "254/254 [==============================] - 1s 5ms/step - loss: 0.3088 - accuracy: 0.8706 - val_loss: 0.3129 - val_accuracy: 0.8800\n",
            "Epoch 91/100\n",
            "254/254 [==============================] - 1s 5ms/step - loss: 0.3073 - accuracy: 0.8714 - val_loss: 0.3251 - val_accuracy: 0.8756\n",
            "Epoch 92/100\n",
            "254/254 [==============================] - 2s 8ms/step - loss: 0.3062 - accuracy: 0.8738 - val_loss: 0.3241 - val_accuracy: 0.8833\n",
            "Epoch 93/100\n",
            "254/254 [==============================] - 2s 6ms/step - loss: 0.3069 - accuracy: 0.8728 - val_loss: 0.3207 - val_accuracy: 0.8811\n",
            "Epoch 94/100\n",
            "254/254 [==============================] - 2s 6ms/step - loss: 0.3090 - accuracy: 0.8710 - val_loss: 0.3316 - val_accuracy: 0.8822\n",
            "Epoch 95/100\n",
            "254/254 [==============================] - 1s 3ms/step - loss: 0.3097 - accuracy: 0.8715 - val_loss: 0.3152 - val_accuracy: 0.8767\n",
            "Epoch 96/100\n",
            "254/254 [==============================] - 1s 3ms/step - loss: 0.3085 - accuracy: 0.8714 - val_loss: 0.3132 - val_accuracy: 0.8789\n",
            "Epoch 97/100\n",
            "254/254 [==============================] - 1s 4ms/step - loss: 0.3087 - accuracy: 0.8714 - val_loss: 0.3208 - val_accuracy: 0.8833\n",
            "Epoch 98/100\n",
            "254/254 [==============================] - 1s 6ms/step - loss: 0.3057 - accuracy: 0.8741 - val_loss: 0.3279 - val_accuracy: 0.8756\n",
            "Epoch 99/100\n",
            "254/254 [==============================] - 2s 6ms/step - loss: 0.3078 - accuracy: 0.8732 - val_loss: 0.3189 - val_accuracy: 0.8767\n",
            "Epoch 100/100\n",
            "254/254 [==============================] - 2s 10ms/step - loss: 0.3094 - accuracy: 0.8714 - val_loss: 0.3249 - val_accuracy: 0.8867\n"
          ]
        },
        {
          "output_type": "execute_result",
          "data": {
            "text/plain": [
              "<keras.callbacks.History at 0x7fd00f7de790>"
            ]
          },
          "metadata": {},
          "execution_count": 50
        }
      ]
    },
    {
      "cell_type": "code",
      "source": [
        "y_pred = model.predict(X_test) > 0.5\n",
        "print(confusion_matrix(y_test, y_pred))\n",
        "print(classification_report(y_test, y_pred))"
      ],
      "metadata": {
        "colab": {
          "base_uri": "https://localhost:8080/"
        },
        "id": "Zpz4Tn-dAteM",
        "outputId": "ca378e5f-689b-47a3-d4b4-ff4223c5c7ac"
      },
      "execution_count": 51,
      "outputs": [
        {
          "output_type": "stream",
          "name": "stdout",
          "text": [
            "[[743  53]\n",
            " [103 101]]\n",
            "              precision    recall  f1-score   support\n",
            "\n",
            "           0       0.88      0.93      0.90       796\n",
            "           1       0.66      0.50      0.56       204\n",
            "\n",
            "    accuracy                           0.84      1000\n",
            "   macro avg       0.77      0.71      0.73      1000\n",
            "weighted avg       0.83      0.84      0.84      1000\n",
            "\n"
          ]
        }
      ]
    },
    {
      "cell_type": "markdown",
      "metadata": {
        "id": "kyEGbzmCOSME"
      },
      "source": [
        "### Add Dropout Layer"
      ]
    },
    {
      "cell_type": "code",
      "execution_count": 52,
      "metadata": {
        "id": "hCFfmpqjOSME"
      },
      "outputs": [],
      "source": [
        "from tensorflow.keras.layers import Dropout"
      ]
    },
    {
      "cell_type": "code",
      "source": [
        "tf.random.set_seed(seed)\n",
        "\n",
        "model = Sequential()\n",
        "\n",
        "model.add(Dense(24, activation=\"relu\", input_dim = X_train.shape[1]))\n",
        "model.add(Dropout(0.5))\n",
        "\n",
        "model.add(Dense(12, activation=\"relu\"))\n",
        "model.add(Dropout(0.5))\n",
        "\n",
        "model.add(Dense(6, activation=\"relu\"))\n",
        "model.add(Dropout(0.5))\n",
        "\n",
        "model.add(Dense(1, activation=\"sigmoid\"))\n",
        "\n",
        "opt = Adam(lr = 0.001)\n",
        "model.compile(optimizer = opt, loss = \"binary_crossentropy\", metrics = [\"accuracy\"])"
      ],
      "metadata": {
        "id": "Km4D9PxaAoLd"
      },
      "execution_count": 53,
      "outputs": []
    },
    {
      "cell_type": "code",
      "source": [
        "model.fit(x = X_train, y = y_train, validation_split = 0.1, batch_size = 32, epochs = 100, verbose = 1)\n"
      ],
      "metadata": {
        "colab": {
          "base_uri": "https://localhost:8080/"
        },
        "id": "BGKPqxRcAoNg",
        "outputId": "a6b3ddbc-0591-4000-e8a4-c2c84a059a32"
      },
      "execution_count": 54,
      "outputs": [
        {
          "output_type": "stream",
          "name": "stdout",
          "text": [
            "Epoch 1/100\n",
            "254/254 [==============================] - 2s 4ms/step - loss: 0.5896 - accuracy: 0.7714 - val_loss: 0.5185 - val_accuracy: 0.7989\n",
            "Epoch 2/100\n",
            "254/254 [==============================] - 1s 5ms/step - loss: 0.5443 - accuracy: 0.7948 - val_loss: 0.5024 - val_accuracy: 0.7989\n",
            "Epoch 3/100\n",
            "254/254 [==============================] - 1s 4ms/step - loss: 0.5209 - accuracy: 0.7957 - val_loss: 0.4905 - val_accuracy: 0.7989\n",
            "Epoch 4/100\n",
            "254/254 [==============================] - 1s 3ms/step - loss: 0.5159 - accuracy: 0.7959 - val_loss: 0.4835 - val_accuracy: 0.7989\n",
            "Epoch 5/100\n",
            "254/254 [==============================] - 1s 3ms/step - loss: 0.5045 - accuracy: 0.7960 - val_loss: 0.4852 - val_accuracy: 0.7989\n",
            "Epoch 6/100\n",
            "254/254 [==============================] - 1s 3ms/step - loss: 0.5013 - accuracy: 0.7960 - val_loss: 0.4763 - val_accuracy: 0.7989\n",
            "Epoch 7/100\n",
            "254/254 [==============================] - 1s 3ms/step - loss: 0.4992 - accuracy: 0.7960 - val_loss: 0.4767 - val_accuracy: 0.7989\n",
            "Epoch 8/100\n",
            "254/254 [==============================] - 1s 4ms/step - loss: 0.4963 - accuracy: 0.7960 - val_loss: 0.4768 - val_accuracy: 0.7989\n",
            "Epoch 9/100\n",
            "254/254 [==============================] - 1s 4ms/step - loss: 0.4956 - accuracy: 0.7960 - val_loss: 0.4747 - val_accuracy: 0.7989\n",
            "Epoch 10/100\n",
            "254/254 [==============================] - 1s 4ms/step - loss: 0.4908 - accuracy: 0.7960 - val_loss: 0.4699 - val_accuracy: 0.7989\n",
            "Epoch 11/100\n",
            "254/254 [==============================] - 2s 6ms/step - loss: 0.4852 - accuracy: 0.7960 - val_loss: 0.4665 - val_accuracy: 0.7989\n",
            "Epoch 12/100\n",
            "254/254 [==============================] - 1s 5ms/step - loss: 0.4825 - accuracy: 0.7960 - val_loss: 0.4663 - val_accuracy: 0.7989\n",
            "Epoch 13/100\n",
            "254/254 [==============================] - 2s 6ms/step - loss: 0.4835 - accuracy: 0.7960 - val_loss: 0.4625 - val_accuracy: 0.7989\n",
            "Epoch 14/100\n",
            "254/254 [==============================] - 2s 7ms/step - loss: 0.4861 - accuracy: 0.7960 - val_loss: 0.4602 - val_accuracy: 0.7989\n",
            "Epoch 15/100\n",
            "254/254 [==============================] - 1s 4ms/step - loss: 0.4774 - accuracy: 0.7960 - val_loss: 0.4578 - val_accuracy: 0.7989\n",
            "Epoch 16/100\n",
            "254/254 [==============================] - 1s 3ms/step - loss: 0.4796 - accuracy: 0.7960 - val_loss: 0.4547 - val_accuracy: 0.7989\n",
            "Epoch 17/100\n",
            "254/254 [==============================] - 1s 3ms/step - loss: 0.4776 - accuracy: 0.7960 - val_loss: 0.4490 - val_accuracy: 0.7989\n",
            "Epoch 18/100\n",
            "254/254 [==============================] - 1s 3ms/step - loss: 0.4736 - accuracy: 0.7960 - val_loss: 0.4474 - val_accuracy: 0.7989\n",
            "Epoch 19/100\n",
            "254/254 [==============================] - 1s 3ms/step - loss: 0.4741 - accuracy: 0.7960 - val_loss: 0.4455 - val_accuracy: 0.7989\n",
            "Epoch 20/100\n",
            "254/254 [==============================] - 1s 3ms/step - loss: 0.4693 - accuracy: 0.7960 - val_loss: 0.4435 - val_accuracy: 0.7989\n",
            "Epoch 21/100\n",
            "254/254 [==============================] - 1s 3ms/step - loss: 0.4689 - accuracy: 0.7960 - val_loss: 0.4453 - val_accuracy: 0.7989\n",
            "Epoch 22/100\n",
            "254/254 [==============================] - 1s 3ms/step - loss: 0.4682 - accuracy: 0.7960 - val_loss: 0.4360 - val_accuracy: 0.7989\n",
            "Epoch 23/100\n",
            "254/254 [==============================] - 1s 2ms/step - loss: 0.4670 - accuracy: 0.7960 - val_loss: 0.4406 - val_accuracy: 0.7989\n",
            "Epoch 24/100\n",
            "254/254 [==============================] - 1s 3ms/step - loss: 0.4714 - accuracy: 0.7960 - val_loss: 0.4409 - val_accuracy: 0.7989\n",
            "Epoch 25/100\n",
            "254/254 [==============================] - 1s 4ms/step - loss: 0.4717 - accuracy: 0.7960 - val_loss: 0.4386 - val_accuracy: 0.7989\n",
            "Epoch 26/100\n",
            "254/254 [==============================] - 1s 4ms/step - loss: 0.4626 - accuracy: 0.7960 - val_loss: 0.4355 - val_accuracy: 0.7989\n",
            "Epoch 27/100\n",
            "254/254 [==============================] - 1s 5ms/step - loss: 0.4659 - accuracy: 0.7960 - val_loss: 0.4378 - val_accuracy: 0.7989\n",
            "Epoch 28/100\n",
            "254/254 [==============================] - 1s 5ms/step - loss: 0.4627 - accuracy: 0.7960 - val_loss: 0.4340 - val_accuracy: 0.7989\n",
            "Epoch 29/100\n",
            "254/254 [==============================] - 1s 3ms/step - loss: 0.4660 - accuracy: 0.7960 - val_loss: 0.4351 - val_accuracy: 0.7989\n",
            "Epoch 30/100\n",
            "254/254 [==============================] - 1s 4ms/step - loss: 0.4647 - accuracy: 0.7960 - val_loss: 0.4365 - val_accuracy: 0.7989\n",
            "Epoch 31/100\n",
            "254/254 [==============================] - 1s 4ms/step - loss: 0.4623 - accuracy: 0.7960 - val_loss: 0.4345 - val_accuracy: 0.7989\n",
            "Epoch 32/100\n",
            "254/254 [==============================] - 1s 4ms/step - loss: 0.4626 - accuracy: 0.7960 - val_loss: 0.4303 - val_accuracy: 0.7989\n",
            "Epoch 33/100\n",
            "254/254 [==============================] - 1s 3ms/step - loss: 0.4597 - accuracy: 0.7960 - val_loss: 0.4250 - val_accuracy: 0.7989\n",
            "Epoch 34/100\n",
            "254/254 [==============================] - 1s 4ms/step - loss: 0.4587 - accuracy: 0.7960 - val_loss: 0.4216 - val_accuracy: 0.7989\n",
            "Epoch 35/100\n",
            "254/254 [==============================] - 1s 2ms/step - loss: 0.4629 - accuracy: 0.7960 - val_loss: 0.4327 - val_accuracy: 0.7989\n",
            "Epoch 36/100\n",
            "254/254 [==============================] - 1s 3ms/step - loss: 0.4647 - accuracy: 0.7960 - val_loss: 0.4221 - val_accuracy: 0.7989\n",
            "Epoch 37/100\n",
            "254/254 [==============================] - 1s 3ms/step - loss: 0.4635 - accuracy: 0.7960 - val_loss: 0.4225 - val_accuracy: 0.7989\n",
            "Epoch 38/100\n",
            "254/254 [==============================] - 1s 3ms/step - loss: 0.4639 - accuracy: 0.7960 - val_loss: 0.4203 - val_accuracy: 0.7989\n",
            "Epoch 39/100\n",
            "254/254 [==============================] - 1s 2ms/step - loss: 0.4592 - accuracy: 0.7960 - val_loss: 0.4174 - val_accuracy: 0.7989\n",
            "Epoch 40/100\n",
            "254/254 [==============================] - 1s 3ms/step - loss: 0.4548 - accuracy: 0.7960 - val_loss: 0.4184 - val_accuracy: 0.7989\n",
            "Epoch 41/100\n",
            "254/254 [==============================] - 1s 2ms/step - loss: 0.4613 - accuracy: 0.7960 - val_loss: 0.4191 - val_accuracy: 0.7989\n",
            "Epoch 42/100\n",
            "254/254 [==============================] - 1s 3ms/step - loss: 0.4630 - accuracy: 0.7960 - val_loss: 0.4175 - val_accuracy: 0.7989\n",
            "Epoch 43/100\n",
            "254/254 [==============================] - 1s 4ms/step - loss: 0.4550 - accuracy: 0.7960 - val_loss: 0.4121 - val_accuracy: 0.7989\n",
            "Epoch 44/100\n",
            "254/254 [==============================] - 1s 5ms/step - loss: 0.4594 - accuracy: 0.7960 - val_loss: 0.4166 - val_accuracy: 0.7989\n",
            "Epoch 45/100\n",
            "254/254 [==============================] - 1s 5ms/step - loss: 0.4615 - accuracy: 0.7960 - val_loss: 0.4119 - val_accuracy: 0.7989\n",
            "Epoch 46/100\n",
            "254/254 [==============================] - 1s 5ms/step - loss: 0.4534 - accuracy: 0.7960 - val_loss: 0.4108 - val_accuracy: 0.7989\n",
            "Epoch 47/100\n",
            "254/254 [==============================] - 2s 7ms/step - loss: 0.4553 - accuracy: 0.7960 - val_loss: 0.4143 - val_accuracy: 0.7989\n",
            "Epoch 48/100\n",
            "254/254 [==============================] - 1s 4ms/step - loss: 0.4550 - accuracy: 0.7960 - val_loss: 0.4133 - val_accuracy: 0.7989\n",
            "Epoch 49/100\n",
            "254/254 [==============================] - 1s 4ms/step - loss: 0.4534 - accuracy: 0.7960 - val_loss: 0.4084 - val_accuracy: 0.7989\n",
            "Epoch 50/100\n",
            "254/254 [==============================] - 1s 3ms/step - loss: 0.4560 - accuracy: 0.7960 - val_loss: 0.4112 - val_accuracy: 0.7989\n",
            "Epoch 51/100\n",
            "254/254 [==============================] - 1s 4ms/step - loss: 0.4512 - accuracy: 0.7960 - val_loss: 0.4055 - val_accuracy: 0.7989\n",
            "Epoch 52/100\n",
            "254/254 [==============================] - 2s 8ms/step - loss: 0.4543 - accuracy: 0.7960 - val_loss: 0.4084 - val_accuracy: 0.7989\n",
            "Epoch 53/100\n",
            "254/254 [==============================] - 2s 7ms/step - loss: 0.4581 - accuracy: 0.7960 - val_loss: 0.4094 - val_accuracy: 0.7989\n",
            "Epoch 54/100\n",
            "254/254 [==============================] - 2s 7ms/step - loss: 0.4534 - accuracy: 0.7960 - val_loss: 0.4026 - val_accuracy: 0.7989\n",
            "Epoch 55/100\n",
            "254/254 [==============================] - 1s 4ms/step - loss: 0.4521 - accuracy: 0.7960 - val_loss: 0.4059 - val_accuracy: 0.7989\n",
            "Epoch 56/100\n",
            "254/254 [==============================] - 1s 5ms/step - loss: 0.4518 - accuracy: 0.7960 - val_loss: 0.4088 - val_accuracy: 0.7989\n",
            "Epoch 57/100\n",
            "254/254 [==============================] - 2s 6ms/step - loss: 0.4593 - accuracy: 0.7960 - val_loss: 0.4112 - val_accuracy: 0.7989\n",
            "Epoch 58/100\n",
            "254/254 [==============================] - 1s 5ms/step - loss: 0.4546 - accuracy: 0.7960 - val_loss: 0.4056 - val_accuracy: 0.7989\n",
            "Epoch 59/100\n",
            "254/254 [==============================] - 2s 7ms/step - loss: 0.4479 - accuracy: 0.7960 - val_loss: 0.4054 - val_accuracy: 0.7989\n",
            "Epoch 60/100\n",
            "254/254 [==============================] - 2s 7ms/step - loss: 0.4589 - accuracy: 0.7960 - val_loss: 0.4102 - val_accuracy: 0.7989\n",
            "Epoch 61/100\n",
            "254/254 [==============================] - 2s 9ms/step - loss: 0.4534 - accuracy: 0.7960 - val_loss: 0.4012 - val_accuracy: 0.7989\n",
            "Epoch 62/100\n",
            "254/254 [==============================] - 1s 5ms/step - loss: 0.4562 - accuracy: 0.7960 - val_loss: 0.4137 - val_accuracy: 0.7989\n",
            "Epoch 63/100\n",
            "254/254 [==============================] - 2s 8ms/step - loss: 0.4556 - accuracy: 0.7960 - val_loss: 0.4120 - val_accuracy: 0.7989\n",
            "Epoch 64/100\n",
            "254/254 [==============================] - 2s 7ms/step - loss: 0.4512 - accuracy: 0.7960 - val_loss: 0.4023 - val_accuracy: 0.7989\n",
            "Epoch 65/100\n",
            "254/254 [==============================] - 1s 5ms/step - loss: 0.4578 - accuracy: 0.7960 - val_loss: 0.4076 - val_accuracy: 0.7989\n",
            "Epoch 66/100\n",
            "254/254 [==============================] - 2s 7ms/step - loss: 0.4550 - accuracy: 0.7960 - val_loss: 0.4116 - val_accuracy: 0.7989\n",
            "Epoch 67/100\n",
            "254/254 [==============================] - 2s 6ms/step - loss: 0.4602 - accuracy: 0.7960 - val_loss: 0.4043 - val_accuracy: 0.7989\n",
            "Epoch 68/100\n",
            "254/254 [==============================] - 1s 5ms/step - loss: 0.4532 - accuracy: 0.7960 - val_loss: 0.4078 - val_accuracy: 0.7989\n",
            "Epoch 69/100\n",
            "254/254 [==============================] - 1s 6ms/step - loss: 0.4502 - accuracy: 0.7960 - val_loss: 0.4045 - val_accuracy: 0.7989\n",
            "Epoch 70/100\n",
            "254/254 [==============================] - 1s 6ms/step - loss: 0.4529 - accuracy: 0.7960 - val_loss: 0.4034 - val_accuracy: 0.7989\n",
            "Epoch 71/100\n",
            "254/254 [==============================] - 1s 5ms/step - loss: 0.4517 - accuracy: 0.7960 - val_loss: 0.4025 - val_accuracy: 0.7989\n",
            "Epoch 72/100\n",
            "254/254 [==============================] - 1s 4ms/step - loss: 0.4515 - accuracy: 0.7960 - val_loss: 0.4039 - val_accuracy: 0.7989\n",
            "Epoch 73/100\n",
            "254/254 [==============================] - 1s 6ms/step - loss: 0.4506 - accuracy: 0.7960 - val_loss: 0.4028 - val_accuracy: 0.7989\n",
            "Epoch 74/100\n",
            "254/254 [==============================] - 1s 5ms/step - loss: 0.4536 - accuracy: 0.7960 - val_loss: 0.4083 - val_accuracy: 0.7989\n",
            "Epoch 75/100\n",
            "254/254 [==============================] - 1s 4ms/step - loss: 0.4504 - accuracy: 0.7960 - val_loss: 0.3993 - val_accuracy: 0.7989\n",
            "Epoch 76/100\n",
            "254/254 [==============================] - 1s 4ms/step - loss: 0.4504 - accuracy: 0.7960 - val_loss: 0.4025 - val_accuracy: 0.7989\n",
            "Epoch 77/100\n",
            "254/254 [==============================] - 1s 5ms/step - loss: 0.4494 - accuracy: 0.7960 - val_loss: 0.4013 - val_accuracy: 0.7989\n",
            "Epoch 78/100\n",
            "254/254 [==============================] - 1s 4ms/step - loss: 0.4499 - accuracy: 0.7960 - val_loss: 0.4086 - val_accuracy: 0.7989\n",
            "Epoch 79/100\n",
            "254/254 [==============================] - 1s 6ms/step - loss: 0.4543 - accuracy: 0.7960 - val_loss: 0.3982 - val_accuracy: 0.7989\n",
            "Epoch 80/100\n",
            "254/254 [==============================] - 2s 10ms/step - loss: 0.4517 - accuracy: 0.7960 - val_loss: 0.4013 - val_accuracy: 0.7989\n",
            "Epoch 81/100\n",
            "254/254 [==============================] - 1s 6ms/step - loss: 0.4542 - accuracy: 0.7960 - val_loss: 0.4047 - val_accuracy: 0.7989\n",
            "Epoch 82/100\n",
            "254/254 [==============================] - 1s 5ms/step - loss: 0.4501 - accuracy: 0.7960 - val_loss: 0.3969 - val_accuracy: 0.7989\n",
            "Epoch 83/100\n",
            "254/254 [==============================] - 1s 4ms/step - loss: 0.4536 - accuracy: 0.7960 - val_loss: 0.3999 - val_accuracy: 0.7989\n",
            "Epoch 84/100\n",
            "254/254 [==============================] - 1s 5ms/step - loss: 0.4518 - accuracy: 0.7960 - val_loss: 0.4057 - val_accuracy: 0.7989\n",
            "Epoch 85/100\n",
            "254/254 [==============================] - 2s 6ms/step - loss: 0.4526 - accuracy: 0.7960 - val_loss: 0.4011 - val_accuracy: 0.7989\n",
            "Epoch 86/100\n",
            "254/254 [==============================] - 1s 4ms/step - loss: 0.4485 - accuracy: 0.7960 - val_loss: 0.4012 - val_accuracy: 0.7989\n",
            "Epoch 87/100\n",
            "254/254 [==============================] - 1s 4ms/step - loss: 0.4533 - accuracy: 0.7960 - val_loss: 0.3995 - val_accuracy: 0.7989\n",
            "Epoch 88/100\n",
            "254/254 [==============================] - 1s 6ms/step - loss: 0.4538 - accuracy: 0.7960 - val_loss: 0.4042 - val_accuracy: 0.7989\n",
            "Epoch 89/100\n",
            "254/254 [==============================] - 1s 4ms/step - loss: 0.4505 - accuracy: 0.7960 - val_loss: 0.4016 - val_accuracy: 0.7989\n",
            "Epoch 90/100\n",
            "254/254 [==============================] - 1s 5ms/step - loss: 0.4551 - accuracy: 0.7960 - val_loss: 0.4010 - val_accuracy: 0.7989\n",
            "Epoch 91/100\n",
            "254/254 [==============================] - 2s 7ms/step - loss: 0.4555 - accuracy: 0.7960 - val_loss: 0.4089 - val_accuracy: 0.7989\n",
            "Epoch 92/100\n",
            "254/254 [==============================] - 1s 5ms/step - loss: 0.4580 - accuracy: 0.7960 - val_loss: 0.4101 - val_accuracy: 0.7989\n",
            "Epoch 93/100\n",
            "254/254 [==============================] - 1s 5ms/step - loss: 0.4485 - accuracy: 0.7960 - val_loss: 0.3978 - val_accuracy: 0.7989\n",
            "Epoch 94/100\n",
            "254/254 [==============================] - 2s 7ms/step - loss: 0.4553 - accuracy: 0.7960 - val_loss: 0.4004 - val_accuracy: 0.7989\n",
            "Epoch 95/100\n",
            "254/254 [==============================] - 1s 4ms/step - loss: 0.4474 - accuracy: 0.7960 - val_loss: 0.4028 - val_accuracy: 0.7989\n",
            "Epoch 96/100\n",
            "254/254 [==============================] - 2s 8ms/step - loss: 0.4501 - accuracy: 0.7960 - val_loss: 0.3936 - val_accuracy: 0.7989\n",
            "Epoch 97/100\n",
            "254/254 [==============================] - 2s 7ms/step - loss: 0.4554 - accuracy: 0.7960 - val_loss: 0.3997 - val_accuracy: 0.7989\n",
            "Epoch 98/100\n",
            "254/254 [==============================] - 2s 6ms/step - loss: 0.4480 - accuracy: 0.7960 - val_loss: 0.3961 - val_accuracy: 0.7989\n",
            "Epoch 99/100\n",
            "254/254 [==============================] - 1s 6ms/step - loss: 0.4490 - accuracy: 0.7960 - val_loss: 0.4004 - val_accuracy: 0.7989\n",
            "Epoch 100/100\n",
            "254/254 [==============================] - 2s 9ms/step - loss: 0.4480 - accuracy: 0.7960 - val_loss: 0.4050 - val_accuracy: 0.7989\n"
          ]
        },
        {
          "output_type": "execute_result",
          "data": {
            "text/plain": [
              "<keras.callbacks.History at 0x7fd00f7ee090>"
            ]
          },
          "metadata": {},
          "execution_count": 54
        }
      ]
    },
    {
      "cell_type": "code",
      "source": [
        "y_pred = model.predict(X_test) > 0.5\n",
        "print(confusion_matrix(y_test, y_pred))\n",
        "print(classification_report(y_test, y_pred))"
      ],
      "metadata": {
        "colab": {
          "base_uri": "https://localhost:8080/"
        },
        "id": "sfNWBXkjBRLw",
        "outputId": "3d86f932-cfa0-4780-92fc-cbd8fab8715d"
      },
      "execution_count": 55,
      "outputs": [
        {
          "output_type": "stream",
          "name": "stdout",
          "text": [
            "[[796   0]\n",
            " [204   0]]\n",
            "              precision    recall  f1-score   support\n",
            "\n",
            "           0       0.80      1.00      0.89       796\n",
            "           1       0.00      0.00      0.00       204\n",
            "\n",
            "    accuracy                           0.80      1000\n",
            "   macro avg       0.40      0.50      0.44      1000\n",
            "weighted avg       0.63      0.80      0.71      1000\n",
            "\n"
          ]
        }
      ]
    },
    {
      "cell_type": "markdown",
      "metadata": {
        "id": "jVzhmctwOSMF"
      },
      "source": [
        "### Add Early Stop"
      ]
    },
    {
      "cell_type": "code",
      "source": [
        "from tensorflow.keras.callbacks import EarlyStopping"
      ],
      "metadata": {
        "id": "xlX9BfY_Cr2h"
      },
      "execution_count": 57,
      "outputs": []
    },
    {
      "cell_type": "code",
      "source": [
        "early_stop = EarlyStopping(monitor = \"val_loss\", mode = \"min\", verbose = 1, patience = 15, restore_best_weights = True)"
      ],
      "metadata": {
        "id": "BssLM8lOA4Wy"
      },
      "execution_count": 58,
      "outputs": []
    },
    {
      "cell_type": "code",
      "source": [
        "model.fit(x = X_train, y = y_train, validation_split = 0.1, batch_size = 32, epochs = 100, verbose = 1,\n",
        "          callbacks = [early_stop])"
      ],
      "metadata": {
        "colab": {
          "base_uri": "https://localhost:8080/"
        },
        "id": "RlVtwxSIA4jB",
        "outputId": "a212c085-72be-4b36-b204-db9a6f46fa42"
      },
      "execution_count": 60,
      "outputs": [
        {
          "output_type": "stream",
          "name": "stdout",
          "text": [
            "Epoch 1/100\n",
            "254/254 [==============================] - 3s 12ms/step - loss: 0.4493 - accuracy: 0.7960 - val_loss: 0.3994 - val_accuracy: 0.7989\n",
            "Epoch 2/100\n",
            "254/254 [==============================] - 2s 9ms/step - loss: 0.4522 - accuracy: 0.7960 - val_loss: 0.4059 - val_accuracy: 0.7989\n",
            "Epoch 3/100\n",
            "254/254 [==============================] - 2s 9ms/step - loss: 0.4505 - accuracy: 0.7960 - val_loss: 0.4002 - val_accuracy: 0.7989\n",
            "Epoch 4/100\n",
            "254/254 [==============================] - 2s 9ms/step - loss: 0.4503 - accuracy: 0.7960 - val_loss: 0.3961 - val_accuracy: 0.7989\n",
            "Epoch 5/100\n",
            "254/254 [==============================] - 3s 11ms/step - loss: 0.4536 - accuracy: 0.7960 - val_loss: 0.4085 - val_accuracy: 0.7989\n",
            "Epoch 6/100\n",
            "254/254 [==============================] - 2s 9ms/step - loss: 0.4516 - accuracy: 0.7960 - val_loss: 0.3941 - val_accuracy: 0.7989\n",
            "Epoch 7/100\n",
            "254/254 [==============================] - 3s 11ms/step - loss: 0.4507 - accuracy: 0.7960 - val_loss: 0.4022 - val_accuracy: 0.7989\n",
            "Epoch 8/100\n",
            "254/254 [==============================] - 4s 16ms/step - loss: 0.4539 - accuracy: 0.7960 - val_loss: 0.4043 - val_accuracy: 0.7989\n",
            "Epoch 9/100\n",
            "254/254 [==============================] - 3s 10ms/step - loss: 0.4535 - accuracy: 0.7960 - val_loss: 0.4119 - val_accuracy: 0.7989\n",
            "Epoch 10/100\n",
            "254/254 [==============================] - 2s 7ms/step - loss: 0.4544 - accuracy: 0.7960 - val_loss: 0.4031 - val_accuracy: 0.7989\n",
            "Epoch 11/100\n",
            "254/254 [==============================] - 1s 5ms/step - loss: 0.4464 - accuracy: 0.7960 - val_loss: 0.3998 - val_accuracy: 0.7989\n",
            "Epoch 12/100\n",
            "254/254 [==============================] - 1s 4ms/step - loss: 0.4491 - accuracy: 0.7960 - val_loss: 0.4043 - val_accuracy: 0.7989\n",
            "Epoch 13/100\n",
            "254/254 [==============================] - 1s 3ms/step - loss: 0.4540 - accuracy: 0.7960 - val_loss: 0.4146 - val_accuracy: 0.7989\n",
            "Epoch 14/100\n",
            "254/254 [==============================] - 2s 7ms/step - loss: 0.4547 - accuracy: 0.7960 - val_loss: 0.4043 - val_accuracy: 0.7989\n",
            "Epoch 15/100\n",
            "254/254 [==============================] - 2s 6ms/step - loss: 0.4514 - accuracy: 0.7960 - val_loss: 0.3976 - val_accuracy: 0.7989\n",
            "Epoch 16/100\n",
            "254/254 [==============================] - 1s 4ms/step - loss: 0.4570 - accuracy: 0.7960 - val_loss: 0.4047 - val_accuracy: 0.7989\n",
            "Epoch 17/100\n",
            "254/254 [==============================] - 1s 5ms/step - loss: 0.4516 - accuracy: 0.7960 - val_loss: 0.3981 - val_accuracy: 0.7989\n",
            "Epoch 18/100\n",
            "254/254 [==============================] - 1s 6ms/step - loss: 0.4519 - accuracy: 0.7960 - val_loss: 0.3987 - val_accuracy: 0.7989\n",
            "Epoch 19/100\n",
            "254/254 [==============================] - 1s 4ms/step - loss: 0.4498 - accuracy: 0.7960 - val_loss: 0.3998 - val_accuracy: 0.7989\n",
            "Epoch 20/100\n",
            "254/254 [==============================] - 1s 4ms/step - loss: 0.4554 - accuracy: 0.7960 - val_loss: 0.4040 - val_accuracy: 0.7989\n",
            "Epoch 21/100\n",
            "242/254 [===========================>..] - ETA: 0s - loss: 0.4504 - accuracy: 0.7971Restoring model weights from the end of the best epoch: 6.\n",
            "254/254 [==============================] - 1s 4ms/step - loss: 0.4521 - accuracy: 0.7960 - val_loss: 0.4071 - val_accuracy: 0.7989\n",
            "Epoch 21: early stopping\n"
          ]
        },
        {
          "output_type": "execute_result",
          "data": {
            "text/plain": [
              "<keras.callbacks.History at 0x7fd00f4dffd0>"
            ]
          },
          "metadata": {},
          "execution_count": 60
        }
      ]
    },
    {
      "cell_type": "markdown",
      "metadata": {
        "id": "AjM69hiwOSMF"
      },
      "source": [
        "#### Monitor the \"val_loss\" as metric"
      ]
    },
    {
      "cell_type": "code",
      "execution_count": null,
      "metadata": {
        "id": "_bAJuOoCOSMF"
      },
      "outputs": [],
      "source": [
        ""
      ]
    },
    {
      "cell_type": "markdown",
      "metadata": {
        "id": "h1W37az_OSMF"
      },
      "source": [
        "#### Monitor the \"val_recall\" as metric"
      ]
    },
    {
      "cell_type": "code",
      "execution_count": null,
      "metadata": {
        "id": "8mNQBxU4OSMF"
      },
      "outputs": [],
      "source": [
        ""
      ]
    },
    {
      "cell_type": "markdown",
      "metadata": {
        "id": "g3sWicv2OSMG"
      },
      "source": [
        "## GridSearchCV"
      ]
    },
    {
      "cell_type": "code",
      "execution_count": 61,
      "metadata": {
        "id": "k71hgwEfOSMG"
      },
      "outputs": [],
      "source": [
        "from tensorflow.keras.optimizers import Adam, Adadelta, RMSprop, Nadam"
      ]
    },
    {
      "cell_type": "code",
      "source": [
        "from tensorflow.keras.wrappers.scikit_learn import KerasClassifier"
      ],
      "metadata": {
        "id": "-5gS6kw-DSbT"
      },
      "execution_count": 65,
      "outputs": []
    },
    {
      "cell_type": "code",
      "source": [
        "def build_classifier(optimizer, learn_rate):\n",
        "    tf.random.set_seed(seed)\n",
        "    classifier = Sequential()\n",
        "    classifier.add(Dense(units = 24, activation = 'relu'))\n",
        "    classifier.add(Dense(units = 12, activation = 'relu'))\n",
        "    classifier.add(Dense(units = 6, activation = 'relu'))\n",
        "    classifier.add(Dense(units = 1, activation = 'sigmoid'))\n",
        "    classifier.compile(optimizer = optimizer(learn_rate), loss = 'binary_crossentropy', metrics = ['accuracy'])\n",
        "    return classifier"
      ],
      "metadata": {
        "id": "kT-MVTY6B1dP"
      },
      "execution_count": 62,
      "outputs": []
    },
    {
      "cell_type": "code",
      "source": [
        "early_stop = EarlyStopping(monitor = \"val_loss\", mode = \"min\", verbose = 1, patience = 15, restore_best_weights = True)\n"
      ],
      "metadata": {
        "id": "ST_bCKOVB1gj"
      },
      "execution_count": 63,
      "outputs": []
    },
    {
      "cell_type": "code",
      "source": [
        "classifier_model = KerasClassifier(build_fn = build_classifier, validation_split = 0.1, epochs = 100)\n",
        "\n",
        "parameters = {'batch_size': [32, 64],\n",
        "              'optimizer': [Adam, RMSprop, Adadelta, Nadam],\n",
        "              'learn_rate': [0.001, 0.003, 0.005]}\n",
        "\n",
        "grid_model = GridSearchCV(estimator = classifier_model,\n",
        "                          param_grid = parameters,\n",
        "                          scoring = 'accuracy',\n",
        "                          cv = 10,\n",
        "                          n_jobs = -1,\n",
        "                          verbose = 1)\n",
        "\n",
        "grid_model.fit(X_train, y_train, callbacks = [early_stop])"
      ],
      "metadata": {
        "colab": {
          "base_uri": "https://localhost:8080/"
        },
        "id": "cCVuc1I9B1iK",
        "outputId": "0e70422f-2913-4e61-de4c-e1f4d8658b68"
      },
      "execution_count": null,
      "outputs": [
        {
          "output_type": "stream",
          "name": "stdout",
          "text": [
            "Fitting 10 folds for each of 24 candidates, totalling 240 fits\n"
          ]
        }
      ]
    },
    {
      "cell_type": "code",
      "source": [
        "grid_model.best_score_\n"
      ],
      "metadata": {
        "id": "5y-wpoIXB1jy"
      },
      "execution_count": null,
      "outputs": []
    },
    {
      "cell_type": "code",
      "source": [
        "grid_model.best_params_\n"
      ],
      "metadata": {
        "id": "q7s2n-WpB1mx"
      },
      "execution_count": null,
      "outputs": []
    },
    {
      "cell_type": "markdown",
      "metadata": {
        "id": "ZfvPm-RLOSMG"
      },
      "source": [
        "### Evaluate The Model\n",
        "\n",
        "- Plot the model history to observe the changing of metrics\n",
        "- Make prediction to see \"confusion matrix\" and \"classification report\"\n",
        "- Check ROC (Receiver Operating Curve) and AUC (Area Under Curve) for the model"
      ]
    },
    {
      "cell_type": "code",
      "source": [
        "grid_result = pd.DataFrame(grid_model.cv_results_)[[\"mean_test_score\", \"std_test_score\", \"rank_test_score\", \"params\"]].sort_values(by=\"rank_test_score\")\n",
        "grid_result"
      ],
      "metadata": {
        "id": "nzCnG8wVB1p8"
      },
      "execution_count": null,
      "outputs": []
    },
    {
      "cell_type": "code",
      "source": [
        "y_pred = grid_model.predict(X_test)\n",
        "print(confusion_matrix(y_test, y_pred))\n",
        "print(classification_report(y_test, y_pred))"
      ],
      "metadata": {
        "id": "KDXMvwUsB1tE"
      },
      "execution_count": null,
      "outputs": []
    },
    {
      "cell_type": "code",
      "execution_count": null,
      "metadata": {
        "id": "lvYU7tTaOSMG"
      },
      "outputs": [],
      "source": [
        "y_pred_proba = grid_model.predict_proba(X_test)[:,1]\n",
        "fpr, tpr, thresholds = roc_curve(y_test, y_pred_proba)\n",
        "plt.plot([0,1],[0,1],'k--')\n",
        "plt.plot(fpr,tpr, label='ANN')\n",
        "plt.xlabel('fpr')\n",
        "plt.ylabel('tpr')\n",
        "plt.title('ROC curve')\n",
        "plt.show()"
      ]
    },
    {
      "cell_type": "markdown",
      "metadata": {
        "id": "l3JCA289OSMG"
      },
      "source": [
        "# Final Model and Model Deployment"
      ]
    },
    {
      "cell_type": "code",
      "execution_count": null,
      "metadata": {
        "id": "pLc2DEq0OSMH"
      },
      "outputs": [],
      "source": [
        "tf.random.set_seed(seed)\n",
        "\n",
        "model = Sequential()\n",
        "\n",
        "model.add(Dense(36, activation = \"relu\", input_dim = X_train.shape[1]))\n",
        "model.add(Dense(18, activation = \"relu\"))\n",
        "model.add(Dense(9, activation = \"relu\"))\n",
        "model.add(Dense(1, activation = \"sigmoid\"))\n",
        "\n",
        "model.compile(optimizer = \"adam\", loss = \"binary_crossentropy\", metrics = [\"accuracy\"])"
      ]
    },
    {
      "cell_type": "code",
      "source": [
        "early_stop = EarlyStopping(monitor = \"val_loss\", mode = \"min\", verbose = 1, patience = 15, restore_best_weights = True)\n"
      ],
      "metadata": {
        "id": "FuqYO3K8CKeC"
      },
      "execution_count": null,
      "outputs": []
    },
    {
      "cell_type": "code",
      "source": [
        "model.fit(x = X_train, y = y_train, validation_data = (X_test, y_test), batch_size = 32, epochs = 1000, verbose = 1,\n",
        "          callbacks = [early_stop])"
      ],
      "metadata": {
        "id": "_7P-sTypCKgV"
      },
      "execution_count": null,
      "outputs": []
    },
    {
      "cell_type": "code",
      "source": [
        "loss_df = pd.DataFrame(model.history.history)\n",
        "loss_df.plot()"
      ],
      "metadata": {
        "id": "Ta4hgQvFCKis"
      },
      "execution_count": null,
      "outputs": []
    },
    {
      "cell_type": "code",
      "source": [
        "loss, accuracy = model.evaluate(X_test, y_test, verbose=0)\n",
        "print(\"loss : \", loss)\n",
        "print(\"accuracy : \", accuracy)"
      ],
      "metadata": {
        "id": "xy_-BEgJCKlE"
      },
      "execution_count": null,
      "outputs": []
    },
    {
      "cell_type": "code",
      "execution_count": null,
      "metadata": {
        "id": "ZFV0cSj6OSMH"
      },
      "outputs": [],
      "source": [
        "y_pred = model.predict(X_test) > 0.5\n",
        "#y_pred = model.predict_classes(X_test) for tf 2.5.0\n",
        "print(confusion_matrix(y_test, y_pred))\n",
        "print(classification_report(y_test, y_pred))"
      ]
    },
    {
      "cell_type": "markdown",
      "metadata": {
        "id": "Cq10ovAX6daY"
      },
      "source": [
        "## Prediction"
      ]
    },
    {
      "cell_type": "markdown",
      "metadata": {
        "id": "htZeR2qUOSMH"
      },
      "source": [
        "___\n",
        "\n",
        "<p style=\"text-align: center;\"><img src=\"https://docs.google.com/uc?id=1lY0Uj5R04yMY3-ZppPWxqCr5pvBLYPnV\" class=\"img-fluid\" alt=\"CLRSWY\"></p>\n",
        "\n",
        "___"
      ]
    },
    {
      "cell_type": "code",
      "source": [
        ""
      ],
      "metadata": {
        "id": "3B11QzjQCz_J"
      },
      "execution_count": null,
      "outputs": []
    }
  ],
  "metadata": {
    "colab": {
      "collapsed_sections": [],
      "name": "DL-Assignment-1 (Classification with ANN-Churn Prediction)-Student.ipynb",
      "provenance": []
    },
    "kernelspec": {
      "display_name": "Python 3",
      "language": "python",
      "name": "python3"
    },
    "language_info": {
      "codemirror_mode": {
        "name": "ipython",
        "version": 3
      },
      "file_extension": ".py",
      "mimetype": "text/x-python",
      "name": "python",
      "nbconvert_exporter": "python",
      "pygments_lexer": "ipython3",
      "version": "3.7.3"
    },
    "toc": {
      "base_numbering": 1,
      "nav_menu": {},
      "number_sections": false,
      "sideBar": true,
      "skip_h1_title": false,
      "title_cell": "Table of Contents",
      "title_sidebar": "Contents",
      "toc_cell": false,
      "toc_position": {},
      "toc_section_display": true,
      "toc_window_display": true
    }
  },
  "nbformat": 4,
  "nbformat_minor": 0
}